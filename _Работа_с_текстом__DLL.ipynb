{
  "nbformat": 4,
  "nbformat_minor": 0,
  "metadata": {
    "colab": {
      "name": "\"Работа с текстом\" DLL",
      "provenance": [],
      "collapsed_sections": []
    },
    "kernelspec": {
      "name": "python3",
      "display_name": "Python 3"
    },
    "accelerator": "GPU"
  },
  "cells": [
    {
      "cell_type": "markdown",
      "metadata": {
        "id": "SLRJYYqavtJP"
      },
      "source": [
        "\n",
        "1. Скачать датасет с фразами симпосонов - https://github.com/sujanjoejacob/Text-mining-with-Simpsons-Data\n",
        "2. Обучить word2vec на фразах персонажей\n",
        "3. Визуаилизировать embeddings по самым частотным словам (top 1000)\n",
        "4. Найти самые близкие слова для:\n",
        "  homer - marge + bart\n",
        "  bart - lisa + school\n",
        "  marge - homer + home\n",
        "5.  попробовать построить классификатор bart/lisa с использованием этих эмбеддингов\n"
      ]
    },
    {
      "cell_type": "markdown",
      "metadata": {
        "id": "TibQvg8Hv-su"
      },
      "source": [
        "## 1. Скачать датасет с фразами симпосонов - \n",
        "https://github.com/sujanjoejacob/Text-mining-with-Simpsons-Data"
      ]
    },
    {
      "cell_type": "code",
      "metadata": {
        "id": "iaoH-jK9vqR0",
        "colab": {
          "base_uri": "https://localhost:8080/"
        },
        "outputId": "4011a6b2-6fed-44d9-d5f9-39057154b79c"
      },
      "source": [
        "!wget https://github.com/sujanjoejacob/Text-mining-with-Simpsons-Data/raw/master/simpsons_script_lines.csv.zip"
      ],
      "execution_count": 1,
      "outputs": [
        {
          "output_type": "stream",
          "text": [
            "--2021-01-03 20:02:28--  https://github.com/sujanjoejacob/Text-mining-with-Simpsons-Data/raw/master/simpsons_script_lines.csv.zip\n",
            "Resolving github.com (github.com)... 140.82.113.3\n",
            "Connecting to github.com (github.com)|140.82.113.3|:443... connected.\n",
            "HTTP request sent, awaiting response... 302 Found\n",
            "Location: https://raw.githubusercontent.com/sujanjoejacob/Text-mining-with-Simpsons-Data/master/simpsons_script_lines.csv.zip [following]\n",
            "--2021-01-03 20:02:28--  https://raw.githubusercontent.com/sujanjoejacob/Text-mining-with-Simpsons-Data/master/simpsons_script_lines.csv.zip\n",
            "Resolving raw.githubusercontent.com (raw.githubusercontent.com)... 151.101.0.133, 151.101.64.133, 151.101.128.133, ...\n",
            "Connecting to raw.githubusercontent.com (raw.githubusercontent.com)|151.101.0.133|:443... connected.\n",
            "HTTP request sent, awaiting response... 200 OK\n",
            "Length: 9163442 (8.7M) [application/zip]\n",
            "Saving to: ‘simpsons_script_lines.csv.zip’\n",
            "\n",
            "simpsons_script_lin 100%[===================>]   8.74M  --.-KB/s    in 0.09s   \n",
            "\n",
            "2021-01-03 20:02:28 (98.3 MB/s) - ‘simpsons_script_lines.csv.zip’ saved [9163442/9163442]\n",
            "\n"
          ],
          "name": "stdout"
        }
      ]
    },
    {
      "cell_type": "code",
      "metadata": {
        "id": "PhW_O63OPg7Z",
        "colab": {
          "base_uri": "https://localhost:8080/"
        },
        "outputId": "bc130b8a-e257-410f-aa1f-49a934ae2cd8"
      },
      "source": [
        "!unzip simpsons_script_lines.csv.zip"
      ],
      "execution_count": 2,
      "outputs": [
        {
          "output_type": "stream",
          "text": [
            "Archive:  simpsons_script_lines.csv.zip\n",
            "  inflating: simpsons_script_lines.csv  \n"
          ],
          "name": "stdout"
        }
      ]
    },
    {
      "cell_type": "markdown",
      "metadata": {
        "id": "t8mu73Ltzp-B"
      },
      "source": [
        "## 2. Обучить Word2Vec на фразах персонажей"
      ]
    },
    {
      "cell_type": "code",
      "metadata": {
        "id": "A-EN_d9kQKJT"
      },
      "source": [
        "import pandas as pd\n",
        "import torch\n",
        "from torch.autograd import Variable\n",
        "import torch.nn as nn\n",
        "import torch.nn.functional as F\n",
        "import torch.optim as optim\n",
        "import random\n",
        "from collections import Counter\n",
        "import warnings\n",
        "warnings.filterwarnings(\"ignore\",category=UserWarning)\n",
        "warnings.filterwarnings(\"ignore\",category=DeprecationWarning)"
      ],
      "execution_count": 3,
      "outputs": []
    },
    {
      "cell_type": "code",
      "metadata": {
        "id": "QAsoXmnMQNzO",
        "colab": {
          "base_uri": "https://localhost:8080/"
        },
        "outputId": "7974c41c-0c65-4f1f-d5c2-607f08b24d50"
      },
      "source": [
        "simpsons = pd.read_csv('simpsons_script_lines.csv', error_bad_lines=False)"
      ],
      "execution_count": 4,
      "outputs": [
        {
          "output_type": "stream",
          "text": [
            "b'Skipping line 8084: expected 13 fields, saw 20\\nSkipping line 52607: expected 13 fields, saw 21\\nSkipping line 59910: expected 13 fields, saw 21\\n'\n",
            "b'Skipping line 71801: expected 13 fields, saw 20\\nSkipping line 73539: expected 13 fields, saw 21\\nSkipping line 77230: expected 13 fields, saw 21\\nSkipping line 78953: expected 13 fields, saw 21\\nSkipping line 81138: expected 13 fields, saw 20\\nSkipping line 86746: expected 13 fields, saw 22\\nSkipping line 101154: expected 13 fields, saw 21\\nSkipping line 115438: expected 13 fields, saw 20\\nSkipping line 117573: expected 13 fields, saw 22\\nSkipping line 130610: expected 13 fields, saw 22\\n'\n",
            "b'Skipping line 152970: expected 13 fields, saw 22\\nSkipping line 153017: expected 13 fields, saw 20\\nSkipping line 153018: expected 13 fields, saw 30\\nSkipping line 154080: expected 13 fields, saw 20\\nSkipping line 154082: expected 13 fields, saw 20\\nSkipping line 154084: expected 13 fields, saw 20\\nSkipping line 154086: expected 13 fields, saw 20\\nSkipping line 154089: expected 13 fields, saw 23\\nSkipping line 154165: expected 13 fields, saw 21\\nSkipping line 156872: expected 13 fields, saw 20\\n'\n",
            "/usr/local/lib/python3.6/dist-packages/IPython/core/interactiveshell.py:2718: DtypeWarning: Columns (4,5,6) have mixed types.Specify dtype option on import or set low_memory=False.\n",
            "  interactivity=interactivity, compiler=compiler, result=result)\n"
          ],
          "name": "stderr"
        }
      ]
    },
    {
      "cell_type": "code",
      "metadata": {
        "id": "qNeFGnHJHJe0"
      },
      "source": [
        "simpsons.dropna(inplace = True)"
      ],
      "execution_count": 5,
      "outputs": []
    },
    {
      "cell_type": "code",
      "metadata": {
        "id": "9MOaUkbpQ32C",
        "colab": {
          "base_uri": "https://localhost:8080/",
          "height": 289
        },
        "outputId": "9e3b2f9c-6aa8-4ee2-b4eb-4c1002972ac9"
      },
      "source": [
        "simpsons.head(5)"
      ],
      "execution_count": 6,
      "outputs": [
        {
          "output_type": "execute_result",
          "data": {
            "text/html": [
              "<div>\n",
              "<style scoped>\n",
              "    .dataframe tbody tr th:only-of-type {\n",
              "        vertical-align: middle;\n",
              "    }\n",
              "\n",
              "    .dataframe tbody tr th {\n",
              "        vertical-align: top;\n",
              "    }\n",
              "\n",
              "    .dataframe thead th {\n",
              "        text-align: right;\n",
              "    }\n",
              "</style>\n",
              "<table border=\"1\" class=\"dataframe\">\n",
              "  <thead>\n",
              "    <tr style=\"text-align: right;\">\n",
              "      <th></th>\n",
              "      <th>id</th>\n",
              "      <th>episode_id</th>\n",
              "      <th>number</th>\n",
              "      <th>raw_text</th>\n",
              "      <th>timestamp_in_ms</th>\n",
              "      <th>speaking_line</th>\n",
              "      <th>character_id</th>\n",
              "      <th>location_id</th>\n",
              "      <th>raw_character_text</th>\n",
              "      <th>raw_location_text</th>\n",
              "      <th>spoken_words</th>\n",
              "      <th>normalized_text</th>\n",
              "      <th>word_count</th>\n",
              "    </tr>\n",
              "  </thead>\n",
              "  <tbody>\n",
              "    <tr>\n",
              "      <th>0</th>\n",
              "      <td>9549</td>\n",
              "      <td>32</td>\n",
              "      <td>209</td>\n",
              "      <td>Miss Hoover: No, actually, it was a little of ...</td>\n",
              "      <td>848000</td>\n",
              "      <td>True</td>\n",
              "      <td>464</td>\n",
              "      <td>3.0</td>\n",
              "      <td>Miss Hoover</td>\n",
              "      <td>Springfield Elementary School</td>\n",
              "      <td>No, actually, it was a little of both. Sometim...</td>\n",
              "      <td>no actually it was a little of both sometimes ...</td>\n",
              "      <td>31.0</td>\n",
              "    </tr>\n",
              "    <tr>\n",
              "      <th>1</th>\n",
              "      <td>9550</td>\n",
              "      <td>32</td>\n",
              "      <td>210</td>\n",
              "      <td>Lisa Simpson: (NEAR TEARS) Where's Mr. Bergstrom?</td>\n",
              "      <td>856000</td>\n",
              "      <td>True</td>\n",
              "      <td>9</td>\n",
              "      <td>3.0</td>\n",
              "      <td>Lisa Simpson</td>\n",
              "      <td>Springfield Elementary School</td>\n",
              "      <td>Where's Mr. Bergstrom?</td>\n",
              "      <td>wheres mr bergstrom</td>\n",
              "      <td>3.0</td>\n",
              "    </tr>\n",
              "    <tr>\n",
              "      <th>2</th>\n",
              "      <td>9551</td>\n",
              "      <td>32</td>\n",
              "      <td>211</td>\n",
              "      <td>Miss Hoover: I don't know. Although I'd sure l...</td>\n",
              "      <td>856000</td>\n",
              "      <td>True</td>\n",
              "      <td>464</td>\n",
              "      <td>3.0</td>\n",
              "      <td>Miss Hoover</td>\n",
              "      <td>Springfield Elementary School</td>\n",
              "      <td>I don't know. Although I'd sure like to talk t...</td>\n",
              "      <td>i dont know although id sure like to talk to h...</td>\n",
              "      <td>22.0</td>\n",
              "    </tr>\n",
              "    <tr>\n",
              "      <th>3</th>\n",
              "      <td>9552</td>\n",
              "      <td>32</td>\n",
              "      <td>212</td>\n",
              "      <td>Lisa Simpson: That life is worth living.</td>\n",
              "      <td>864000</td>\n",
              "      <td>True</td>\n",
              "      <td>9</td>\n",
              "      <td>3.0</td>\n",
              "      <td>Lisa Simpson</td>\n",
              "      <td>Springfield Elementary School</td>\n",
              "      <td>That life is worth living.</td>\n",
              "      <td>that life is worth living</td>\n",
              "      <td>5.0</td>\n",
              "    </tr>\n",
              "    <tr>\n",
              "      <th>4</th>\n",
              "      <td>9553</td>\n",
              "      <td>32</td>\n",
              "      <td>213</td>\n",
              "      <td>Edna Krabappel-Flanders: The polls will be ope...</td>\n",
              "      <td>864000</td>\n",
              "      <td>True</td>\n",
              "      <td>40</td>\n",
              "      <td>3.0</td>\n",
              "      <td>Edna Krabappel-Flanders</td>\n",
              "      <td>Springfield Elementary School</td>\n",
              "      <td>The polls will be open from now until the end ...</td>\n",
              "      <td>the polls will be open from now until the end ...</td>\n",
              "      <td>33.0</td>\n",
              "    </tr>\n",
              "  </tbody>\n",
              "</table>\n",
              "</div>"
            ],
            "text/plain": [
              "     id  ...  word_count\n",
              "0  9549  ...        31.0\n",
              "1  9550  ...         3.0\n",
              "2  9551  ...        22.0\n",
              "3  9552  ...         5.0\n",
              "4  9553  ...        33.0\n",
              "\n",
              "[5 rows x 13 columns]"
            ]
          },
          "metadata": {
            "tags": []
          },
          "execution_count": 6
        }
      ]
    },
    {
      "cell_type": "code",
      "metadata": {
        "id": "rRHKmN1w5Htt"
      },
      "source": [
        "simpsons = simpsons.sort_values(by = 'id')"
      ],
      "execution_count": 7,
      "outputs": []
    },
    {
      "cell_type": "code",
      "metadata": {
        "id": "sSoZbbZ05V7T",
        "colab": {
          "base_uri": "https://localhost:8080/",
          "height": 272
        },
        "outputId": "732e06c8-4658-424b-b479-bafbe116865a"
      },
      "source": [
        "simpsons.tail()"
      ],
      "execution_count": 8,
      "outputs": [
        {
          "output_type": "execute_result",
          "data": {
            "text/html": [
              "<div>\n",
              "<style scoped>\n",
              "    .dataframe tbody tr th:only-of-type {\n",
              "        vertical-align: middle;\n",
              "    }\n",
              "\n",
              "    .dataframe tbody tr th {\n",
              "        vertical-align: top;\n",
              "    }\n",
              "\n",
              "    .dataframe thead th {\n",
              "        text-align: right;\n",
              "    }\n",
              "</style>\n",
              "<table border=\"1\" class=\"dataframe\">\n",
              "  <thead>\n",
              "    <tr style=\"text-align: right;\">\n",
              "      <th></th>\n",
              "      <th>id</th>\n",
              "      <th>episode_id</th>\n",
              "      <th>number</th>\n",
              "      <th>raw_text</th>\n",
              "      <th>timestamp_in_ms</th>\n",
              "      <th>speaking_line</th>\n",
              "      <th>character_id</th>\n",
              "      <th>location_id</th>\n",
              "      <th>raw_character_text</th>\n",
              "      <th>raw_location_text</th>\n",
              "      <th>spoken_words</th>\n",
              "      <th>normalized_text</th>\n",
              "      <th>word_count</th>\n",
              "    </tr>\n",
              "  </thead>\n",
              "  <tbody>\n",
              "    <tr>\n",
              "      <th>147762</th>\n",
              "      <td>158303</td>\n",
              "      <td>568</td>\n",
              "      <td>193</td>\n",
              "      <td>Homer Simpson: I'm not leaving this casino unt...</td>\n",
              "      <td>1211000</td>\n",
              "      <td>true</td>\n",
              "      <td>2</td>\n",
              "      <td>4457.0</td>\n",
              "      <td>Homer Simpson</td>\n",
              "      <td>CASINO FLOOR</td>\n",
              "      <td>I'm not leaving this casino until you stop pun...</td>\n",
              "      <td>im not leaving this casino until you stop puni...</td>\n",
              "      <td>21.0</td>\n",
              "    </tr>\n",
              "    <tr>\n",
              "      <th>147766</th>\n",
              "      <td>158308</td>\n",
              "      <td>568</td>\n",
              "      <td>198</td>\n",
              "      <td>Marge Simpson: Homie, after all this, do you s...</td>\n",
              "      <td>1227000</td>\n",
              "      <td>true</td>\n",
              "      <td>1</td>\n",
              "      <td>131.0</td>\n",
              "      <td>Marge Simpson</td>\n",
              "      <td>First Church of Springfield</td>\n",
              "      <td>Homie, after all this, do you still believe in...</td>\n",
              "      <td>homie after all this do you still believe in god</td>\n",
              "      <td>10.0</td>\n",
              "    </tr>\n",
              "    <tr>\n",
              "      <th>147767</th>\n",
              "      <td>158309</td>\n",
              "      <td>568</td>\n",
              "      <td>199</td>\n",
              "      <td>Homer Simpson: On a beautiful night like tonig...</td>\n",
              "      <td>1230000</td>\n",
              "      <td>true</td>\n",
              "      <td>2</td>\n",
              "      <td>131.0</td>\n",
              "      <td>Homer Simpson</td>\n",
              "      <td>First Church of Springfield</td>\n",
              "      <td>On a beautiful night like tonight... how could...</td>\n",
              "      <td>on a beautiful night like tonight how could i not</td>\n",
              "      <td>10.0</td>\n",
              "    </tr>\n",
              "    <tr>\n",
              "      <th>147769</th>\n",
              "      <td>158311</td>\n",
              "      <td>568</td>\n",
              "      <td>201</td>\n",
              "      <td>Lou: Next week on \"Sky Police\".</td>\n",
              "      <td>1292000</td>\n",
              "      <td>true</td>\n",
              "      <td>91</td>\n",
              "      <td>3.0</td>\n",
              "      <td>Lou</td>\n",
              "      <td>Springfield Elementary School</td>\n",
              "      <td>Next week on \"Sky Police\".</td>\n",
              "      <td>next week on sky police</td>\n",
              "      <td>5.0</td>\n",
              "    </tr>\n",
              "    <tr>\n",
              "      <th>147773</th>\n",
              "      <td>158315</td>\n",
              "      <td>568</td>\n",
              "      <td>205</td>\n",
              "      <td>Chief Wiggum: Sky police!</td>\n",
              "      <td>1292000</td>\n",
              "      <td>true</td>\n",
              "      <td>71</td>\n",
              "      <td>585.0</td>\n",
              "      <td>Chief Wiggum</td>\n",
              "      <td>Warehouse District</td>\n",
              "      <td>Sky police!</td>\n",
              "      <td>sky police</td>\n",
              "      <td>2.0</td>\n",
              "    </tr>\n",
              "  </tbody>\n",
              "</table>\n",
              "</div>"
            ],
            "text/plain": [
              "            id  ...  word_count\n",
              "147762  158303  ...        21.0\n",
              "147766  158308  ...        10.0\n",
              "147767  158309  ...        10.0\n",
              "147769  158311  ...         5.0\n",
              "147773  158315  ...         2.0\n",
              "\n",
              "[5 rows x 13 columns]"
            ]
          },
          "metadata": {
            "tags": []
          },
          "execution_count": 8
        }
      ]
    },
    {
      "cell_type": "code",
      "metadata": {
        "id": "xKwczYZpUkA3"
      },
      "source": [
        "phrases = simpsons['normalized_text'].to_list()"
      ],
      "execution_count": 9,
      "outputs": []
    },
    {
      "cell_type": "code",
      "metadata": {
        "id": "8wPSRmtCAzJC",
        "colab": {
          "base_uri": "https://localhost:8080/"
        },
        "outputId": "a7f5e665-655d-4ae2-c2a5-e991118f2b67"
      },
      "source": [
        "episodes = simpsons['episode_id'].unique()\n",
        "len(episodes)"
      ],
      "execution_count": 10,
      "outputs": [
        {
          "output_type": "execute_result",
          "data": {
            "text/plain": [
              "564"
            ]
          },
          "metadata": {
            "tags": []
          },
          "execution_count": 10
        }
      ]
    },
    {
      "cell_type": "code",
      "metadata": {
        "id": "1b7yJCKzXGDh"
      },
      "source": [
        "# соединение списка фраз в один текст, без цифр\n",
        "def phrases_to_text(phrases):\n",
        "  text = ''\n",
        "  number_digits = 0\n",
        "  for i in range(len(phrases)):\n",
        "    if not str(phrases[i]).isdigit():\n",
        "      text += ' ' + str(phrases[i])\n",
        "    else:\n",
        "      number_digits += 1\n",
        "  if number_digits != 0:\n",
        "    print('Число удаленных цифр в тексте', number_digits)\n",
        "  \n",
        "  return text"
      ],
      "execution_count": 11,
      "outputs": []
    },
    {
      "cell_type": "code",
      "metadata": {
        "id": "b6P8ywojd6nM",
        "colab": {
          "base_uri": "https://localhost:8080/"
        },
        "outputId": "6815dbae-eb49-4713-942f-f59e1483d053"
      },
      "source": [
        "query = phrases_to_text(phrases)"
      ],
      "execution_count": 12,
      "outputs": [
        {
          "output_type": "stream",
          "text": [
            "Число удаленных цифр в тексте 10\n"
          ],
          "name": "stdout"
        }
      ]
    },
    {
      "cell_type": "code",
      "metadata": {
        "id": "4dZCm7yA_l8t",
        "colab": {
          "base_uri": "https://localhost:8080/"
        },
        "outputId": "e71177ec-b415-453c-96fb-eeeea672555b"
      },
      "source": [
        "# исходная длина словаря\n",
        "len(set(query.split()))"
      ],
      "execution_count": 13,
      "outputs": [
        {
          "output_type": "execute_result",
          "data": {
            "text/plain": [
              "46773"
            ]
          },
          "metadata": {
            "tags": []
          },
          "execution_count": 13
        }
      ]
    },
    {
      "cell_type": "markdown",
      "metadata": {
        "id": "4VaRZfByYB6p"
      },
      "source": [
        "Удалим редкие слова (встречаются 1 раз) из текста"
      ]
    },
    {
      "cell_type": "code",
      "metadata": {
        "id": "DneU37YieY3k"
      },
      "source": [
        "cnt = Counter(query.split())"
      ],
      "execution_count": 14,
      "outputs": []
    },
    {
      "cell_type": "code",
      "metadata": {
        "id": "4ypg2LJLggmv"
      },
      "source": [
        "# список редких слов\n",
        "rare_words = []\n",
        "for key in cnt:\n",
        "  if cnt[key] == 1:\n",
        "    rare_words.append(key)"
      ],
      "execution_count": 15,
      "outputs": []
    },
    {
      "cell_type": "code",
      "metadata": {
        "id": "VSQCC6_8YA6T"
      },
      "source": [
        "rare_words = set(rare_words)\n",
        "querywords = query.split()\n",
        "resultwords  = [word for word in querywords if word not in rare_words]"
      ],
      "execution_count": 16,
      "outputs": []
    },
    {
      "cell_type": "code",
      "metadata": {
        "id": "DVUQdpDtkVy9",
        "colab": {
          "base_uri": "https://localhost:8080/"
        },
        "outputId": "8f19d960-a6e0-4c15-da59-8e4a77ba8cf6"
      },
      "source": [
        "len(resultwords),len(rare_words)"
      ],
      "execution_count": 17,
      "outputs": [
        {
          "output_type": "execute_result",
          "data": {
            "text/plain": [
              "(1279162, 22808)"
            ]
          },
          "metadata": {
            "tags": []
          },
          "execution_count": 17
        }
      ]
    },
    {
      "cell_type": "code",
      "metadata": {
        "id": "5wtbXlR3ABTo",
        "colab": {
          "base_uri": "https://localhost:8080/"
        },
        "outputId": "e4fc4e55-b9b3-43d0-a701-c8da3957c90a"
      },
      "source": [
        "vocabulary = set(resultwords)\n",
        "len(vocabulary)"
      ],
      "execution_count": 18,
      "outputs": [
        {
          "output_type": "execute_result",
          "data": {
            "text/plain": [
              "23965"
            ]
          },
          "metadata": {
            "tags": []
          },
          "execution_count": 18
        }
      ]
    },
    {
      "cell_type": "markdown",
      "metadata": {
        "id": "DnaXTwAAlPdh"
      },
      "source": [
        "словарь сократился на **22808** слов"
      ]
    },
    {
      "cell_type": "code",
      "metadata": {
        "id": "sfaddtkJamD8"
      },
      "source": [
        "w2i = {w: i for i, w in enumerate(vocabulary)}\n",
        "i2w = {i: w for i, w in enumerate(vocabulary)}"
      ],
      "execution_count": 19,
      "outputs": []
    },
    {
      "cell_type": "code",
      "metadata": {
        "id": "FPmCS-jByqgq"
      },
      "source": [
        "# здесь создается датасет для тренировки CBOW \n",
        "#  основная идея метода - выделение отдельных эпизодов, \n",
        "#как объединенных единым смыслом участков текста для создания правильного контекста\n",
        "# context window size is four\n",
        "def create_cbow_dataset(df, rare_words):\n",
        "  episodes = df['episode_id'].unique()\n",
        "  data = []\n",
        "  for episode in episodes:\n",
        "    ep_frame = df[df['episode_id'] == episode]\n",
        "    ep_frame =  ep_frame.sort_values(by = 'id')\n",
        "    episode_phrases = ep_frame['normalized_text'].to_list()\n",
        "    text = phrases_to_text(episode_phrases)\n",
        "    querywords = text.split()\n",
        "    text  = [word for word in querywords if word not in rare_words]\n",
        "\n",
        "    for i in range(4, len(text) - 4):\n",
        "        context = [text[i - 4],text[i - 3], text[i - 2],text[i - 1],\n",
        "                   text[i + 1], text[i + 2],text[i + 3], text[i + 4]]\n",
        "        target = text[i]\n",
        "        data.append((context, target))\n",
        "  return data"
      ],
      "execution_count": 20,
      "outputs": []
    },
    {
      "cell_type": "code",
      "metadata": {
        "id": "AJXa6eqW_zMQ",
        "colab": {
          "base_uri": "https://localhost:8080/"
        },
        "outputId": "afed47ee-4c52-458c-9f89-9070a7e05228"
      },
      "source": [
        "cbow_train = create_cbow_dataset(simpsons,rare_words)"
      ],
      "execution_count": 21,
      "outputs": [
        {
          "output_type": "stream",
          "text": [
            "Число удаленных цифр в тексте 5\n",
            "Число удаленных цифр в тексте 1\n",
            "Число удаленных цифр в тексте 1\n",
            "Число удаленных цифр в тексте 1\n",
            "Число удаленных цифр в тексте 1\n",
            "Число удаленных цифр в тексте 1\n"
          ],
          "name": "stdout"
        }
      ]
    },
    {
      "cell_type": "code",
      "metadata": {
        "id": "LTxwzFOzJtD4",
        "colab": {
          "base_uri": "https://localhost:8080/"
        },
        "outputId": "16f19c93-d888-4b0e-9520-ee857fe424aa"
      },
      "source": [
        "len(cbow_train)"
      ],
      "execution_count": 22,
      "outputs": [
        {
          "output_type": "execute_result",
          "data": {
            "text/plain": [
              "1274650"
            ]
          },
          "metadata": {
            "tags": []
          },
          "execution_count": 22
        }
      ]
    },
    {
      "cell_type": "code",
      "metadata": {
        "id": "0NCl5zb0L50d",
        "colab": {
          "base_uri": "https://localhost:8080/"
        },
        "outputId": "9bc4a831-855e-4dc7-aff6-276d7e4395d5"
      },
      "source": [
        "print('cbow sample', cbow_train[21112])"
      ],
      "execution_count": 23,
      "outputs": [
        {
          "output_type": "stream",
          "text": [
            "cbow sample (['oh', 'i', 'dont', 'want', 'trouble', 'you', 'not', 'at'], 'to')\n"
          ],
          "name": "stdout"
        }
      ]
    },
    {
      "cell_type": "code",
      "metadata": {
        "id": "CXAbXxt3xy7c"
      },
      "source": [
        "class CBOW(nn.Module):\n",
        "    def __init__(self, vocab_size, embd_size, context_size, hidden_size):\n",
        "        super(CBOW, self).__init__()\n",
        "        self.embeddings = nn.Embedding(vocab_size, embd_size)\n",
        "        self.linear1 = nn.Linear(2*context_size*embd_size, hidden_size)\n",
        "        self.linear2 = nn.Linear(hidden_size, vocab_size)\n",
        "        \n",
        "    def forward(self, inputs):\n",
        "        embedded = self.embeddings(inputs).view((inputs.shape[0], -1))\n",
        "        hid = F.relu(self.linear1(embedded))\n",
        "        out = self.linear2(hid)\n",
        "        log_probs = F.log_softmax(out)\n",
        "        return log_probs"
      ],
      "execution_count": 24,
      "outputs": []
    },
    {
      "cell_type": "code",
      "metadata": {
        "id": "_EW5yIhZ_Lai"
      },
      "source": [
        "# подготовка массива для обучения\n",
        "# превращение слов в контекст и таргет (Torch tensor ) из наборов  cbow_train\n",
        "TRAIN = []\n",
        "for context, target in cbow_train:\n",
        "  ctx_idxs = [w2i[w] for w in context]\n",
        "  ctx_idxs = torch.LongTensor(ctx_idxs)\n",
        "  TRAIN.append((ctx_idxs,torch.LongTensor([w2i[target]])))\n"
      ],
      "execution_count": 25,
      "outputs": []
    },
    {
      "cell_type": "code",
      "metadata": {
        "id": "qtmiyVug_69x",
        "colab": {
          "base_uri": "https://localhost:8080/"
        },
        "outputId": "ab0f857b-fd5f-4471-d5eb-12388f25dfd5"
      },
      "source": [
        "TRAIN[4]"
      ],
      "execution_count": 26,
      "outputs": [
        {
          "output_type": "execute_result",
          "data": {
            "text/plain": [
              "(tensor([15436, 10592, 23902,  2235, 20528, 21795,  8879,  5866]),\n",
              " tensor([8402]))"
            ]
          },
          "metadata": {
            "tags": []
          },
          "execution_count": 26
        }
      ]
    },
    {
      "cell_type": "code",
      "metadata": {
        "id": "uT_UBfUqjYw0",
        "colab": {
          "base_uri": "https://localhost:8080/"
        },
        "outputId": "b1665ac4-72d0-479d-bb71-4e52d0b27340"
      },
      "source": [
        "len(TRAIN)"
      ],
      "execution_count": 27,
      "outputs": [
        {
          "output_type": "execute_result",
          "data": {
            "text/plain": [
              "1274650"
            ]
          },
          "metadata": {
            "tags": []
          },
          "execution_count": 27
        }
      ]
    },
    {
      "cell_type": "code",
      "metadata": {
        "id": "XN5Sjjz5ACI8"
      },
      "source": [
        "BATCH_SIZE = 900\n",
        "train_iter = torch.utils.data.DataLoader(TRAIN, batch_size=BATCH_SIZE, shuffle = True)"
      ],
      "execution_count": 28,
      "outputs": []
    },
    {
      "cell_type": "code",
      "metadata": {
        "id": "0qsYmmkh5cmQ",
        "colab": {
          "base_uri": "https://localhost:8080/"
        },
        "outputId": "b7b747ba-b0d0-4c18-b16e-da826ca4f1fc"
      },
      "source": [
        "embd_size = 300\n",
        "learning_rate = 2.0\n",
        "n_epoch = 50\n",
        "vocab_size = len(vocabulary)\n",
        "CONTEXT_SIZE = 4  # 4 words to the left, 4 to the right\n",
        "\n",
        "hidden_size = 300\n",
        "losses = []\n",
        "loss_fn = nn.NLLLoss()\n",
        "#model = CBOW(vocab_size, embd_size, CONTEXT_SIZE, hidden_size)\n",
        "model.cuda()\n",
        "optimizer = optim.SGD(model.parameters(), lr=learning_rate)\n",
        "ep = [i for i in range(n_epoch)]\n",
        "for epoch in ep:\n",
        "    print(f'===========epoch=={epoch}===========')\n",
        "    total_loss = .0\n",
        "    for context, target in train_iter:\n",
        "        context,target = context.cuda(), target.cuda()\n",
        "        #print(context.shape)\n",
        "        #context = context.unsqueeze(0)\n",
        "        #print(context.shape)\n",
        "        #print(target.shape)\n",
        "        model.zero_grad()\n",
        "        log_probs = model(context)\n",
        "        #print('OUTPUT', log_probs.shape)\n",
        "        target = target.squeeze()\n",
        "        #print('TARGET',target.shape)\n",
        "        loss = loss_fn(log_probs, target)\n",
        "\n",
        "        loss.backward()\n",
        "        optimizer.step()\n",
        "\n",
        "        total_loss += loss.item()\n",
        "    print(f'loss = {total_loss}')\n",
        "    losses.append(total_loss)"
      ],
      "execution_count": 32,
      "outputs": [
        {
          "output_type": "stream",
          "text": [
            "===========epoch==0===========\n",
            "loss = 8438.677681922913\n",
            "===========epoch==1===========\n",
            "loss = 7455.562999725342\n",
            "===========epoch==2===========\n",
            "loss = 7054.900854587555\n",
            "===========epoch==3===========\n",
            "loss = 6763.6193079948425\n",
            "===========epoch==4===========\n",
            "loss = 6527.7052211761475\n",
            "===========epoch==5===========\n",
            "loss = 6327.290376186371\n",
            "===========epoch==6===========\n",
            "loss = 6144.9676425457\n",
            "===========epoch==7===========\n",
            "loss = 5984.74595618248\n",
            "===========epoch==8===========\n",
            "loss = 5836.978314399719\n",
            "===========epoch==9===========\n",
            "loss = 5702.431041717529\n",
            "===========epoch==10===========\n",
            "loss = 5580.92909860611\n",
            "===========epoch==11===========\n",
            "loss = 5473.9995748996735\n",
            "===========epoch==12===========\n",
            "loss = 5374.620442390442\n",
            "===========epoch==13===========\n",
            "loss = 5286.448509454727\n",
            "===========epoch==14===========\n",
            "loss = 5203.980040311813\n",
            "===========epoch==15===========\n",
            "loss = 5128.716571092606\n",
            "===========epoch==16===========\n",
            "loss = 5060.1421592235565\n",
            "===========epoch==17===========\n",
            "loss = 5000.726540565491\n",
            "===========epoch==18===========\n",
            "loss = 4938.595280885696\n",
            "===========epoch==19===========\n",
            "loss = 4884.700474739075\n",
            "===========epoch==20===========\n",
            "loss = 4831.912890195847\n",
            "===========epoch==21===========\n",
            "loss = 4785.137553215027\n",
            "===========epoch==22===========\n",
            "loss = 4741.1416692733765\n",
            "===========epoch==23===========\n",
            "loss = 4697.366554260254\n",
            "===========epoch==24===========\n",
            "loss = 4656.00045132637\n",
            "===========epoch==25===========\n",
            "loss = 4618.096524953842\n",
            "===========epoch==26===========\n",
            "loss = 4580.6728756427765\n",
            "===========epoch==27===========\n",
            "loss = 4543.502158641815\n",
            "===========epoch==28===========\n",
            "loss = 4510.322622060776\n",
            "===========epoch==29===========\n",
            "loss = 4475.952083110809\n",
            "===========epoch==30===========\n",
            "loss = 4446.138065814972\n",
            "===========epoch==31===========\n",
            "loss = 4414.947509765625\n",
            "===========epoch==32===========\n",
            "loss = 4385.917400598526\n",
            "===========epoch==33===========\n",
            "loss = 4357.28972864151\n",
            "===========epoch==34===========\n",
            "loss = 4328.62086558342\n",
            "===========epoch==35===========\n",
            "loss = 4301.9280071258545\n",
            "===========epoch==36===========\n",
            "loss = 4275.131856918335\n",
            "===========epoch==37===========\n",
            "loss = 4247.444308757782\n",
            "===========epoch==38===========\n",
            "loss = 4222.68412566185\n",
            "===========epoch==39===========\n",
            "loss = 4199.131725311279\n",
            "===========epoch==40===========\n",
            "loss = 4175.558698415756\n",
            "===========epoch==41===========\n",
            "loss = 4149.4352850914\n",
            "===========epoch==42===========\n",
            "loss = 4124.8463134765625\n",
            "===========epoch==43===========\n",
            "loss = 4102.138782262802\n",
            "===========epoch==44===========\n",
            "loss = 4080.7711436748505\n",
            "===========epoch==45===========\n",
            "loss = 4058.8553898334503\n",
            "===========epoch==46===========\n",
            "loss = 4037.090088367462\n",
            "===========epoch==47===========\n",
            "loss = 4015.992869615555\n",
            "===========epoch==48===========\n",
            "loss = 3994.8865451812744\n",
            "===========epoch==49===========\n",
            "loss = 3975.154191017151\n"
          ],
          "name": "stdout"
        }
      ]
    },
    {
      "cell_type": "code",
      "metadata": {
        "id": "L64fTPCFVqv1"
      },
      "source": [
        "sample_to_test = [cbow_train[random.randint(1,len(cbow_train))] for i in range(900)]"
      ],
      "execution_count": 33,
      "outputs": []
    },
    {
      "cell_type": "code",
      "metadata": {
        "id": "mEWSP0liYGyE",
        "colab": {
          "base_uri": "https://localhost:8080/"
        },
        "outputId": "47410694-1bb7-4a2c-9dd3-a007db4e3e56"
      },
      "source": [
        "model.cpu()"
      ],
      "execution_count": 34,
      "outputs": [
        {
          "output_type": "execute_result",
          "data": {
            "text/plain": [
              "CBOW(\n",
              "  (embeddings): Embedding(23965, 300)\n",
              "  (linear1): Linear(in_features=2400, out_features=300, bias=True)\n",
              "  (linear2): Linear(in_features=300, out_features=23965, bias=True)\n",
              ")"
            ]
          },
          "metadata": {
            "tags": []
          },
          "execution_count": 34
        }
      ]
    },
    {
      "cell_type": "code",
      "metadata": {
        "id": "5tv5uKfARCiG"
      },
      "source": [
        "def test_cbow(test_data, model):\n",
        "    print('====Test CBOW===')\n",
        "    correct_ct = 0\n",
        "    for ctx, target in test_data:\n",
        "        ctx_idxs = [w2i[w] for w in ctx]\n",
        "        ctx_var = Variable(torch.LongTensor(ctx_idxs))\n",
        "        ctx_var = ctx_var.unsqueeze(0)\n",
        "        model.zero_grad()\n",
        "        log_probs = model(ctx_var)\n",
        "        _, predicted = torch.max(log_probs.data, 1)\n",
        "        predicted_word = i2w[predicted.item()]\n",
        "        if predicted_word == target:\n",
        "            correct_ct += 1\n",
        "        print('label :', target)\n",
        "        print('predicted:', predicted_word)\n",
        "             \n",
        "    print('Accuracy: {:.1f}% ({:d}/{:d})'.format(correct_ct/len(test_data)*100, correct_ct, len(test_data)))"
      ],
      "execution_count": 35,
      "outputs": []
    },
    {
      "cell_type": "code",
      "metadata": {
        "id": "-S847Vc7cgj9",
        "colab": {
          "base_uri": "https://localhost:8080/"
        },
        "outputId": "e2b99ffc-f853-4f87-9889-965a0a778336"
      },
      "source": [
        "test_cbow(sample_to_test,model)"
      ],
      "execution_count": 36,
      "outputs": [
        {
          "output_type": "stream",
          "text": [
            "====Test CBOW===\n",
            "label : hearings\n",
            "predicted: hearings\n",
            "label : oh\n",
            "predicted: could\n",
            "label : did\n",
            "predicted: gotta\n",
            "label : soaking\n",
            "predicted: soaking\n",
            "label : em\n",
            "predicted: made\n",
            "label : hello\n",
            "predicted: hey\n",
            "label : perhaps\n",
            "predicted: and\n",
            "label : why\n",
            "predicted: why\n",
            "label : or\n",
            "predicted: well\n",
            "label : excellent\n",
            "predicted: excellent\n",
            "label : dear\n",
            "predicted: dear\n",
            "label : you\n",
            "predicted: you\n",
            "label : in\n",
            "predicted: from\n",
            "label : unhook\n",
            "predicted: unhook\n",
            "label : steering\n",
            "predicted: steering\n",
            "label : scares\n",
            "predicted: scares\n",
            "label : women\n",
            "predicted: and\n",
            "label : summer\n",
            "predicted: summer\n",
            "label : at\n",
            "predicted: know\n",
            "label : there\n",
            "predicted: up\n",
            "label : count\n",
            "predicted: be\n",
            "label : i\n",
            "predicted: i\n",
            "label : with\n",
            "predicted: have\n",
            "label : getting\n",
            "predicted: in\n",
            "label : happened\n",
            "predicted: happened\n",
            "label : seen\n",
            "predicted: seen\n",
            "label : wanted\n",
            "predicted: expect\n",
            "label : dinner\n",
            "predicted: hey\n",
            "label : of\n",
            "predicted: of\n",
            "label : and\n",
            "predicted: and\n",
            "label : mesmerino\n",
            "predicted: mesmerino\n",
            "label : wake\n",
            "predicted: wake\n",
            "label : boring\n",
            "predicted: in\n",
            "label : easy\n",
            "predicted: easy\n",
            "label : good\n",
            "predicted: sorry\n",
            "label : need\n",
            "predicted: and\n",
            "label : love\n",
            "predicted: call\n",
            "label : not\n",
            "predicted: just\n",
            "label : maggie\n",
            "predicted: and\n",
            "label : nelson\n",
            "predicted: am\n",
            "label : sound\n",
            "predicted: head\n",
            "label : george\n",
            "predicted: im\n",
            "label : out\n",
            "predicted: out\n",
            "label : of\n",
            "predicted: of\n",
            "label : look\n",
            "predicted: bart\n",
            "label : get\n",
            "predicted: get\n",
            "label : really\n",
            "predicted: just\n",
            "label : ive\n",
            "predicted: ive\n",
            "label : weight\n",
            "predicted: simpson\n",
            "label : we\n",
            "predicted: we\n",
            "label : good\n",
            "predicted: good\n",
            "label : not\n",
            "predicted: just\n",
            "label : oh\n",
            "predicted: hello\n",
            "label : of\n",
            "predicted: of\n",
            "label : cant\n",
            "predicted: did\n",
            "label : ingredient\n",
            "predicted: ingredient\n",
            "label : for\n",
            "predicted: from\n",
            "label : actually\n",
            "predicted: and\n",
            "label : beans\n",
            "predicted: beans\n",
            "label : like\n",
            "predicted: like\n",
            "label : know\n",
            "predicted: know\n",
            "label : you\n",
            "predicted: you\n",
            "label : wearin\n",
            "predicted: wearin\n",
            "label : of\n",
            "predicted: of\n",
            "label : too\n",
            "predicted: and\n",
            "label : go\n",
            "predicted: go\n",
            "label : what\n",
            "predicted: where\n",
            "label : to\n",
            "predicted: to\n",
            "label : to\n",
            "predicted: to\n",
            "label : seen\n",
            "predicted: seen\n",
            "label : would\n",
            "predicted: just\n",
            "label : on\n",
            "predicted: you\n",
            "label : circle\n",
            "predicted: hey\n",
            "label : things\n",
            "predicted: out\n",
            "label : ahead\n",
            "predicted: ahead\n",
            "label : the\n",
            "predicted: a\n",
            "label : quality\n",
            "predicted: human\n",
            "label : ga-ga\n",
            "predicted: ga-ga\n",
            "label : me\n",
            "predicted: him\n",
            "label : beer\n",
            "predicted: little\n",
            "label : this\n",
            "predicted: in\n",
            "label : thankful\n",
            "predicted: thankful\n",
            "label : of\n",
            "predicted: of\n",
            "label : one\n",
            "predicted: a\n",
            "label : it\n",
            "predicted: this\n",
            "label : apply\n",
            "predicted: apply\n",
            "label : is\n",
            "predicted: is\n",
            "label : national\n",
            "predicted: national\n",
            "label : we\n",
            "predicted: kids\n",
            "label : ask\n",
            "predicted: from\n",
            "label : crap\n",
            "predicted: for\n",
            "label : act\n",
            "predicted: out\n",
            "label : the\n",
            "predicted: the\n",
            "label : well\n",
            "predicted: hope\n",
            "label : are\n",
            "predicted: mountain\n",
            "label : foot\n",
            "predicted: pretty\n",
            "label : about\n",
            "predicted: about\n",
            "label : his\n",
            "predicted: a\n",
            "label : fifty\n",
            "predicted: ten\n",
            "label : off\n",
            "predicted: and\n",
            "label : mets\n",
            "predicted: mets\n",
            "label : you\n",
            "predicted: you\n",
            "label : name\n",
            "predicted: commissioner\n",
            "label : on\n",
            "predicted: like\n",
            "label : chums\n",
            "predicted: chums\n",
            "label : you\n",
            "predicted: you\n",
            "label : im\n",
            "predicted: its\n",
            "label : do\n",
            "predicted: do\n",
            "label : in\n",
            "predicted: --\n",
            "label : to\n",
            "predicted: love\n",
            "label : good\n",
            "predicted: very\n",
            "label : you\n",
            "predicted: you\n",
            "label : ooh\n",
            "predicted: ooh\n",
            "label : the\n",
            "predicted: the\n",
            "label : and\n",
            "predicted: to\n",
            "label : you\n",
            "predicted: else\n",
            "label : theyre\n",
            "predicted: lisa\n",
            "label : mutt\n",
            "predicted: mutt\n",
            "label : with\n",
            "predicted: in\n",
            "label : at\n",
            "predicted: between\n",
            "label : youve\n",
            "predicted: and\n",
            "label : got\n",
            "predicted: had\n",
            "label : this\n",
            "predicted: you\n",
            "label : oh\n",
            "predicted: and\n",
            "label : sign\n",
            "predicted: up\n",
            "label : product\n",
            "predicted: drug\n",
            "label : then\n",
            "predicted: in\n",
            "label : problem\n",
            "predicted: im\n",
            "label : be\n",
            "predicted: im\n",
            "label : mayor\n",
            "predicted: mayor\n",
            "label : pull\n",
            "predicted: pull\n",
            "label : better\n",
            "predicted: faster\n",
            "label : later\n",
            "predicted: wouldnt\n",
            "label : also\n",
            "predicted: got\n",
            "label : yeah\n",
            "predicted: and\n",
            "label : fly\n",
            "predicted: crash\n",
            "label : emmy\n",
            "predicted: emmy\n",
            "label : something\n",
            "predicted: anything\n",
            "label : the\n",
            "predicted: a\n",
            "label : maam\n",
            "predicted: and\n",
            "label : your\n",
            "predicted: your\n",
            "label : nice\n",
            "predicted: the\n",
            "label : to\n",
            "predicted: will\n",
            "label : got\n",
            "predicted: got\n",
            "label : that\n",
            "predicted: all\n",
            "label : his\n",
            "predicted: your\n",
            "label : anything\n",
            "predicted: like\n",
            "label : my\n",
            "predicted: my\n",
            "label : youve\n",
            "predicted: youve\n",
            "label : the\n",
            "predicted: the\n",
            "label : half\n",
            "predicted: for\n",
            "label : in\n",
            "predicted: in\n",
            "label : cooties\n",
            "predicted: cooties\n",
            "label : vengeful\n",
            "predicted: vengeful\n",
            "label : for\n",
            "predicted: from\n",
            "label : as\n",
            "predicted: so\n",
            "label : cover\n",
            "predicted: studied\n",
            "label : was\n",
            "predicted: was\n",
            "label : first\n",
            "predicted: new\n",
            "label : for\n",
            "predicted: for\n",
            "label : me\n",
            "predicted: you\n",
            "label : maybe\n",
            "predicted: but\n",
            "label : a\n",
            "predicted: a\n",
            "label : house\n",
            "predicted: lives\n",
            "label : only\n",
            "predicted: of\n",
            "label : them\n",
            "predicted: more\n",
            "label : least\n",
            "predicted: least\n",
            "label : thanksgiving\n",
            "predicted: thanksgiving\n",
            "label : chief\n",
            "predicted: anything\n",
            "label : did\n",
            "predicted: did\n",
            "label : there\n",
            "predicted: here\n",
            "label : guys\n",
            "predicted: really\n",
            "label : why\n",
            "predicted: you\n",
            "label : know\n",
            "predicted: do\n",
            "label : romantic\n",
            "predicted: and\n",
            "label : a\n",
            "predicted: a\n",
            "label : fingers\n",
            "predicted: fingers\n",
            "label : and\n",
            "predicted: and\n",
            "label : the\n",
            "predicted: the\n",
            "label : driving\n",
            "predicted: driving\n",
            "label : was\n",
            "predicted: was\n",
            "label : mr\n",
            "predicted: mr\n",
            "label : what\n",
            "predicted: what\n",
            "label : go\n",
            "predicted: lets\n",
            "label : you\n",
            "predicted: you\n",
            "label : jail\n",
            "predicted: no\n",
            "label : gamble\n",
            "predicted: be\n",
            "label : the\n",
            "predicted: a\n",
            "label : what\n",
            "predicted: me\n",
            "label : ill\n",
            "predicted: to\n",
            "label : wouldnt\n",
            "predicted: didnt\n",
            "label : to\n",
            "predicted: to\n",
            "label : me\n",
            "predicted: me\n",
            "label : and\n",
            "predicted: and\n",
            "label : radioactive\n",
            "predicted: successful\n",
            "label : then\n",
            "predicted: when\n",
            "label : used\n",
            "predicted: used\n",
            "label : dont\n",
            "predicted: dont\n",
            "label : do\n",
            "predicted: did\n",
            "label : couple\n",
            "predicted: couple\n",
            "label : one\n",
            "predicted: spend\n",
            "label : you\n",
            "predicted: it\n",
            "label : dude\n",
            "predicted: dude\n",
            "label : it\n",
            "predicted: me\n",
            "label : a\n",
            "predicted: a\n",
            "label : because\n",
            "predicted: on\n",
            "label : drawin\n",
            "predicted: drawin\n",
            "label : i\n",
            "predicted: i\n",
            "label : this\n",
            "predicted: this\n",
            "label : a\n",
            "predicted: a\n",
            "label : could\n",
            "predicted: could\n",
            "label : folks\n",
            "predicted: with\n",
            "label : means\n",
            "predicted: means\n",
            "label : weak\n",
            "predicted: weak\n",
            "label : we\n",
            "predicted: i\n",
            "label : morning\n",
            "predicted: morning\n",
            "label : can\n",
            "predicted: can\n",
            "label : marked\n",
            "predicted: marked\n",
            "label : were\n",
            "predicted: hadnt\n",
            "label : one\n",
            "predicted: only\n",
            "label : see\n",
            "predicted: see\n",
            "label : pretty\n",
            "predicted: a\n",
            "label : come\n",
            "predicted: from\n",
            "label : potatoes\n",
            "predicted: potatoes\n",
            "label : me\n",
            "predicted: a\n",
            "label : marked\n",
            "predicted: marked\n",
            "label : this\n",
            "predicted: the\n",
            "label : art\n",
            "predicted: not\n",
            "label : neighbor\n",
            "predicted: and\n",
            "label : just\n",
            "predicted: have\n",
            "label : how\n",
            "predicted: how\n",
            "label : in\n",
            "predicted: on\n",
            "label : our\n",
            "predicted: our\n",
            "label : you\n",
            "predicted: you\n",
            "label : pay\n",
            "predicted: do\n",
            "label : give\n",
            "predicted: from\n",
            "label : song\n",
            "predicted: slice\n",
            "label : limits\n",
            "predicted: thats\n",
            "label : lets\n",
            "predicted: lets\n",
            "label : whats\n",
            "predicted: of\n",
            "label : him\n",
            "predicted: him\n",
            "label : didnt\n",
            "predicted: did\n",
            "label : family\n",
            "predicted: beer\n",
            "label : very\n",
            "predicted: long\n",
            "label : dont\n",
            "predicted: dont\n",
            "label : thats\n",
            "predicted: youve\n",
            "label : im\n",
            "predicted: theres\n",
            "label : her\n",
            "predicted: your\n",
            "label : blind\n",
            "predicted: blind\n",
            "label : you\n",
            "predicted: you\n",
            "label : he\n",
            "predicted: he\n",
            "label : tree\n",
            "predicted: were\n",
            "label : beauty\n",
            "predicted: beauty\n",
            "label : of\n",
            "predicted: of\n",
            "label : in\n",
            "predicted: here\n",
            "label : krustys\n",
            "predicted: krustys\n",
            "label : do\n",
            "predicted: do\n",
            "label : make\n",
            "predicted: do\n",
            "label : homer\n",
            "predicted: and\n",
            "label : of\n",
            "predicted: of\n",
            "label : to\n",
            "predicted: to\n",
            "label : really\n",
            "predicted: well\n",
            "label : into\n",
            "predicted: into\n",
            "label : getting\n",
            "predicted: telling\n",
            "label : i\n",
            "predicted: i\n",
            "label : can\n",
            "predicted: could\n",
            "label : graduated\n",
            "predicted: graduated\n",
            "label : never\n",
            "predicted: never\n",
            "label : and\n",
            "predicted: and\n",
            "label : food\n",
            "predicted: head\n",
            "label : is\n",
            "predicted: act\n",
            "label : hell\n",
            "predicted: and\n",
            "label : this\n",
            "predicted: who\n",
            "label : your\n",
            "predicted: your\n",
            "label : old\n",
            "predicted: old\n",
            "label : watch\n",
            "predicted: kill\n",
            "label : think\n",
            "predicted: think\n",
            "label : chest\n",
            "predicted: simpsons\n",
            "label : it\n",
            "predicted: now\n",
            "label : make\n",
            "predicted: mean\n",
            "label : the\n",
            "predicted: the\n",
            "label : on\n",
            "predicted: up\n",
            "label : fix\n",
            "predicted: release\n",
            "label : that\n",
            "predicted: you\n",
            "label : on\n",
            "predicted: those\n",
            "label : money\n",
            "predicted: housekeeper\n",
            "label : channel\n",
            "predicted: channel\n",
            "label : any\n",
            "predicted: no\n",
            "label : bad\n",
            "predicted: fast\n",
            "label : took\n",
            "predicted: took\n",
            "label : --\n",
            "predicted: if\n",
            "label : of\n",
            "predicted: of\n",
            "label : we\n",
            "predicted: and\n",
            "label : bender\n",
            "predicted: bender\n",
            "label : rock\n",
            "predicted: old\n",
            "label : thats\n",
            "predicted: thats\n",
            "label : over\n",
            "predicted: oh\n",
            "label : it\n",
            "predicted: them\n",
            "label : do\n",
            "predicted: do\n",
            "label : back\n",
            "predicted: back\n",
            "label : phone\n",
            "predicted: phone\n",
            "label : jam\n",
            "predicted: jam\n",
            "label : could\n",
            "predicted: can\n",
            "label : musk\n",
            "predicted: musk\n",
            "label : can\n",
            "predicted: did\n",
            "label : its\n",
            "predicted: its\n",
            "label : pork\n",
            "predicted: pork\n",
            "label : see\n",
            "predicted: leave\n",
            "label : no\n",
            "predicted: no\n",
            "label : nearby\n",
            "predicted: nearby\n",
            "label : holy\n",
            "predicted: itchy\n",
            "label : like\n",
            "predicted: of\n",
            "label : just\n",
            "predicted: to\n",
            "label : a\n",
            "predicted: a\n",
            "label : we\n",
            "predicted: you\n",
            "label : what\n",
            "predicted: where\n",
            "label : case\n",
            "predicted: picture\n",
            "label : we\n",
            "predicted: we\n",
            "label : all\n",
            "predicted: how\n",
            "label : good\n",
            "predicted: pills\n",
            "label : my\n",
            "predicted: your\n",
            "label : contact\n",
            "predicted: contact\n",
            "label : me\n",
            "predicted: in\n",
            "label : explain\n",
            "predicted: like\n",
            "label : hammer\n",
            "predicted: hammer\n",
            "label : carrot\n",
            "predicted: vampire\n",
            "label : the\n",
            "predicted: a\n",
            "label : and\n",
            "predicted: if\n",
            "label : he\n",
            "predicted: someone\n",
            "label : your\n",
            "predicted: your\n",
            "label : over\n",
            "predicted: never\n",
            "label : life\n",
            "predicted: life\n",
            "label : dont\n",
            "predicted: just\n",
            "label : a\n",
            "predicted: a\n",
            "label : anything\n",
            "predicted: and\n",
            "label : folks\n",
            "predicted: if\n",
            "label : boiled\n",
            "predicted: but\n",
            "label : no\n",
            "predicted: no\n",
            "label : homer\n",
            "predicted: talk\n",
            "label : want\n",
            "predicted: used\n",
            "label : say\n",
            "predicted: hey\n",
            "label : of\n",
            "predicted: im\n",
            "label : rather\n",
            "predicted: very\n",
            "label : you\n",
            "predicted: you\n",
            "label : hmm\n",
            "predicted: and\n",
            "label : project\n",
            "predicted: project\n",
            "label : be\n",
            "predicted: be\n",
            "label : who\n",
            "predicted: just\n",
            "label : thought\n",
            "predicted: think\n",
            "label : car\n",
            "predicted: floor\n",
            "label : would\n",
            "predicted: could\n",
            "label : better\n",
            "predicted: yesterday\n",
            "label : the\n",
            "predicted: the\n",
            "label : noble\n",
            "predicted: noble\n",
            "label : fake\n",
            "predicted: fake\n",
            "label : to\n",
            "predicted: to\n",
            "label : hole\n",
            "predicted: and\n",
            "label : a\n",
            "predicted: a\n",
            "label : while\n",
            "predicted: simpson\n",
            "label : a\n",
            "predicted: a\n",
            "label : for\n",
            "predicted: for\n",
            "label : balls\n",
            "predicted: balls\n",
            "label : as\n",
            "predicted: the\n",
            "label : oak\n",
            "predicted: oak\n",
            "label : the\n",
            "predicted: a\n",
            "label : smithers\n",
            "predicted: and\n",
            "label : your\n",
            "predicted: to\n",
            "label : bound\n",
            "predicted: going\n",
            "label : mom\n",
            "predicted: here\n",
            "label : see\n",
            "predicted: start\n",
            "label : so\n",
            "predicted: tattoo\n",
            "label : attention\n",
            "predicted: but\n",
            "label : to\n",
            "predicted: to\n",
            "label : going\n",
            "predicted: going\n",
            "label : night\n",
            "predicted: time\n",
            "label : a\n",
            "predicted: a\n",
            "label : i\n",
            "predicted: to\n",
            "label : arts\n",
            "predicted: arts\n",
            "label : is\n",
            "predicted: is\n",
            "label : give\n",
            "predicted: give\n",
            "label : the\n",
            "predicted: the\n",
            "label : cranny\n",
            "predicted: cranny\n",
            "label : us\n",
            "predicted: me\n",
            "label : bored\n",
            "predicted: those\n",
            "label : eye\n",
            "predicted: eye\n",
            "label : forty\n",
            "predicted: forty\n",
            "label : away\n",
            "predicted: it\n",
            "label : yours\n",
            "predicted: it\n",
            "label : thursday\n",
            "predicted: to\n",
            "label : get\n",
            "predicted: was\n",
            "label : to\n",
            "predicted: to\n",
            "label : still\n",
            "predicted: not\n",
            "label : my\n",
            "predicted: me\n",
            "label : the\n",
            "predicted: the\n",
            "label : theyre\n",
            "predicted: im\n",
            "label : on\n",
            "predicted: and\n",
            "label : somethings\n",
            "predicted: thats\n",
            "label : got\n",
            "predicted: spend\n",
            "label : and\n",
            "predicted: did\n",
            "label : ned\n",
            "predicted: ned\n",
            "label : an\n",
            "predicted: your\n",
            "label : then\n",
            "predicted: where\n",
            "label : afraid\n",
            "predicted: afraid\n",
            "label : cmere\n",
            "predicted: cmere\n",
            "label : here\n",
            "predicted: here\n",
            "label : a\n",
            "predicted: a\n",
            "label : got\n",
            "predicted: did\n",
            "label : staring\n",
            "predicted: staring\n",
            "label : do\n",
            "predicted: like\n",
            "label : continue\n",
            "predicted: just\n",
            "label : feeding\n",
            "predicted: feeding\n",
            "label : thumb\n",
            "predicted: thumb\n",
            "label : help\n",
            "predicted: like\n",
            "label : those\n",
            "predicted: rage\n",
            "label : my\n",
            "predicted: your\n",
            "label : should\n",
            "predicted: must\n",
            "label : in\n",
            "predicted: on\n",
            "label : vocal\n",
            "predicted: vocal\n",
            "label : me\n",
            "predicted: me\n",
            "label : program\n",
            "predicted: now\n",
            "label : if\n",
            "predicted: if\n",
            "label : poem\n",
            "predicted: different\n",
            "label : hindus\n",
            "predicted: hindus\n",
            "label : mom\n",
            "predicted: all\n",
            "label : hurts\n",
            "predicted: hurts\n",
            "label : here\n",
            "predicted: here\n",
            "label : want\n",
            "predicted: need\n",
            "label : act\n",
            "predicted: and\n",
            "label : you\n",
            "predicted: you\n",
            "label : fake\n",
            "predicted: do\n",
            "label : hide\n",
            "predicted: hide\n",
            "label : sucks\n",
            "predicted: in\n",
            "label : is\n",
            "predicted: was\n",
            "label : dollars\n",
            "predicted: minutes\n",
            "label : silence\n",
            "predicted: get\n",
            "label : take\n",
            "predicted: do\n",
            "label : you\n",
            "predicted: em\n",
            "label : little\n",
            "predicted: little\n",
            "label : cashiers\n",
            "predicted: cashiers\n",
            "label : a\n",
            "predicted: a\n",
            "label : save\n",
            "predicted: mine\n",
            "label : i\n",
            "predicted: i\n",
            "label : up\n",
            "predicted: up\n",
            "label : left\n",
            "predicted: street\n",
            "label : favor\n",
            "predicted: favor\n",
            "label : like\n",
            "predicted: like\n",
            "label : ticket\n",
            "predicted: ticket\n",
            "label : city\n",
            "predicted: city\n",
            "label : comes\n",
            "predicted: one\n",
            "label : your\n",
            "predicted: i\n",
            "label : plans\n",
            "predicted: plans\n",
            "label : now\n",
            "predicted: now\n",
            "label : this\n",
            "predicted: just\n",
            "label : seventy-four\n",
            "predicted: seventy-four\n",
            "label : would\n",
            "predicted: howd\n",
            "label : stick\n",
            "predicted: stick\n",
            "label : whats\n",
            "predicted: god\n",
            "label : yeah\n",
            "predicted: on\n",
            "label : my\n",
            "predicted: your\n",
            "label : looks\n",
            "predicted: looks\n",
            "label : kills\n",
            "predicted: kills\n",
            "label : is\n",
            "predicted: is\n",
            "label : we\n",
            "predicted: and\n",
            "label : sounds\n",
            "predicted: movie\n",
            "label : paintings\n",
            "predicted: paintings\n",
            "label : minute\n",
            "predicted: time\n",
            "label : know\n",
            "predicted: know\n",
            "label : save\n",
            "predicted: come\n",
            "label : down\n",
            "predicted: like\n",
            "label : hey\n",
            "predicted: but\n",
            "label : books\n",
            "predicted: jail\n",
            "label : milhouse\n",
            "predicted: hey\n",
            "label : can\n",
            "predicted: to\n",
            "label : something\n",
            "predicted: how\n",
            "label : theres\n",
            "predicted: a\n",
            "label : la\n",
            "predicted: roof\n",
            "label : but\n",
            "predicted: yeah\n",
            "label : raise\n",
            "predicted: while\n",
            "label : made\n",
            "predicted: scoop\n",
            "label : son\n",
            "predicted: marriage\n",
            "label : you\n",
            "predicted: you\n",
            "label : a\n",
            "predicted: a\n",
            "label : the\n",
            "predicted: a\n",
            "label : just\n",
            "predicted: it\n",
            "label : yes\n",
            "predicted: little\n",
            "label : dad\n",
            "predicted: uh\n",
            "label : well\n",
            "predicted: you\n",
            "label : one\n",
            "predicted: nobody\n",
            "label : head\n",
            "predicted: but\n",
            "label : break\n",
            "predicted: and\n",
            "label : up\n",
            "predicted: up\n",
            "label : to\n",
            "predicted: to\n",
            "label : buried\n",
            "predicted: buried\n",
            "label : --\n",
            "predicted: to\n",
            "label : havent\n",
            "predicted: havent\n",
            "label : digestive\n",
            "predicted: digestive\n",
            "label : have\n",
            "predicted: have\n",
            "label : was\n",
            "predicted: was\n",
            "label : okay\n",
            "predicted: well\n",
            "label : think\n",
            "predicted: be\n",
            "label : bribe\n",
            "predicted: bribe\n",
            "label : finale\n",
            "predicted: finale\n",
            "label : night\n",
            "predicted: just\n",
            "label : i\n",
            "predicted: i\n",
            "label : one\n",
            "predicted: spell\n",
            "label : one\n",
            "predicted: one\n",
            "label : takes\n",
            "predicted: was\n",
            "label : from\n",
            "predicted: anything\n",
            "label : the\n",
            "predicted: now\n",
            "label : to\n",
            "predicted: with\n",
            "label : take\n",
            "predicted: put\n",
            "label : and\n",
            "predicted: and\n",
            "label : on\n",
            "predicted: on\n",
            "label : prayer\n",
            "predicted: prayer\n",
            "label : work\n",
            "predicted: all\n",
            "label : balaban\n",
            "predicted: balaban\n",
            "label : reason\n",
            "predicted: right\n",
            "label : you\n",
            "predicted: you\n",
            "label : troll\n",
            "predicted: troll\n",
            "label : what\n",
            "predicted: from\n",
            "label : the\n",
            "predicted: the\n",
            "label : the\n",
            "predicted: the\n",
            "label : to\n",
            "predicted: to\n",
            "label : year\n",
            "predicted: job\n",
            "label : trust\n",
            "predicted: need\n",
            "label : i\n",
            "predicted: i\n",
            "label : of\n",
            "predicted: its\n",
            "label : has\n",
            "predicted: i\n",
            "label : theres\n",
            "predicted: and\n",
            "label : all\n",
            "predicted: all\n",
            "label : that\n",
            "predicted: homer\n",
            "label : the\n",
            "predicted: a\n",
            "label : leads\n",
            "predicted: leads\n",
            "label : sandwiches\n",
            "predicted: sandwiches\n",
            "label : dont\n",
            "predicted: dont\n",
            "label : i\n",
            "predicted: i\n",
            "label : candy\n",
            "predicted: past\n",
            "label : will\n",
            "predicted: would\n",
            "label : me\n",
            "predicted: here\n",
            "label : the\n",
            "predicted: our\n",
            "label : you\n",
            "predicted: dont\n",
            "label : time\n",
            "predicted: going\n",
            "label : down\n",
            "predicted: down\n",
            "label : deserve\n",
            "predicted: know\n",
            "label : money\n",
            "predicted: nagging\n",
            "label : these\n",
            "predicted: a\n",
            "label : ill\n",
            "predicted: to\n",
            "label : hammock\n",
            "predicted: hammock\n",
            "label : pork\n",
            "predicted: pork\n",
            "label : my\n",
            "predicted: a\n",
            "label : liked\n",
            "predicted: here\n",
            "label : the\n",
            "predicted: a\n",
            "label : and\n",
            "predicted: and\n",
            "label : else\n",
            "predicted: else\n",
            "label : chocolate\n",
            "predicted: those\n",
            "label : your\n",
            "predicted: my\n",
            "label : know\n",
            "predicted: know\n",
            "label : i\n",
            "predicted: i\n",
            "label : lamb\n",
            "predicted: lamb\n",
            "label : mourning\n",
            "predicted: mourning\n",
            "label : wore\n",
            "predicted: got\n",
            "label : shoot\n",
            "predicted: him\n",
            "label : ralph\n",
            "predicted: but\n",
            "label : good\n",
            "predicted: now\n",
            "label : with\n",
            "predicted: like\n",
            "label : to\n",
            "predicted: to\n",
            "label : weapon\n",
            "predicted: weapon\n",
            "label : youll\n",
            "predicted: youll\n",
            "label : while\n",
            "predicted: no\n",
            "label : to\n",
            "predicted: to\n",
            "label : oh\n",
            "predicted: marge\n",
            "label : sold\n",
            "predicted: think\n",
            "label : awww\n",
            "predicted: and\n",
            "label : casino\n",
            "predicted: but\n",
            "label : relax\n",
            "predicted: roll\n",
            "label : ruthless\n",
            "predicted: ruthless\n",
            "label : the\n",
            "predicted: the\n",
            "label : drawing\n",
            "predicted: layer\n",
            "label : yes\n",
            "predicted: no\n",
            "label : homie\n",
            "predicted: and\n",
            "label : tina\n",
            "predicted: tina\n",
            "label : never\n",
            "predicted: never\n",
            "label : sleep\n",
            "predicted: sleep\n",
            "label : remember\n",
            "predicted: now\n",
            "label : keep\n",
            "predicted: our\n",
            "label : i\n",
            "predicted: i\n",
            "label : fiscal\n",
            "predicted: fiscal\n",
            "label : thats\n",
            "predicted: little\n",
            "label : need\n",
            "predicted: have\n",
            "label : let\n",
            "predicted: let\n",
            "label : me\n",
            "predicted: me\n",
            "label : only\n",
            "predicted: only\n",
            "label : dollars\n",
            "predicted: dollars\n",
            "label : youve\n",
            "predicted: we\n",
            "label : at\n",
            "predicted: at\n",
            "label : homer\n",
            "predicted: you\n",
            "label : sweet\n",
            "predicted: true\n",
            "label : on\n",
            "predicted: on\n",
            "label : simpson\n",
            "predicted: burns\n",
            "label : keep\n",
            "predicted: in\n",
            "label : i\n",
            "predicted: i\n",
            "label : heard\n",
            "predicted: can\n",
            "label : file\n",
            "predicted: file\n",
            "label : hm\n",
            "predicted: hmm\n",
            "label : look\n",
            "predicted: look\n",
            "label : counting\n",
            "predicted: counting\n",
            "label : your\n",
            "predicted: your\n",
            "label : fourth-grade\n",
            "predicted: fourth-grade\n",
            "label : home\n",
            "predicted: out\n",
            "label : liar\n",
            "predicted: sure\n",
            "label : time\n",
            "predicted: day\n",
            "label : to\n",
            "predicted: with\n",
            "label : down\n",
            "predicted: all\n",
            "label : and\n",
            "predicted: oh\n",
            "label : on\n",
            "predicted: with\n",
            "label : character\n",
            "predicted: god\n",
            "label : some\n",
            "predicted: out\n",
            "label : they\n",
            "predicted: you\n",
            "label : friend\n",
            "predicted: friend\n",
            "label : we\n",
            "predicted: know\n",
            "label : bashing\n",
            "predicted: bashing\n",
            "label : there\n",
            "predicted: there\n",
            "label : have\n",
            "predicted: got\n",
            "label : okay\n",
            "predicted: hes\n",
            "label : immigrants\n",
            "predicted: it\n",
            "label : for\n",
            "predicted: for\n",
            "label : i\n",
            "predicted: i\n",
            "label : you\n",
            "predicted: you\n",
            "label : to\n",
            "predicted: to\n",
            "label : right\n",
            "predicted: right\n",
            "label : time\n",
            "predicted: time\n",
            "label : thats\n",
            "predicted: thats\n",
            "label : but\n",
            "predicted: and\n",
            "label : known\n",
            "predicted: known\n",
            "label : weve\n",
            "predicted: weve\n",
            "label : deep\n",
            "predicted: deep\n",
            "label : my\n",
            "predicted: my\n",
            "label : the\n",
            "predicted: the\n",
            "label : baby\n",
            "predicted: bart\n",
            "label : but\n",
            "predicted: from\n",
            "label : than\n",
            "predicted: and\n",
            "label : one\n",
            "predicted: a\n",
            "label : how\n",
            "predicted: how\n",
            "label : all\n",
            "predicted: all\n",
            "label : barking\n",
            "predicted: barking\n",
            "label : and\n",
            "predicted: pocket\n",
            "label : hey\n",
            "predicted: here\n",
            "label : nine\n",
            "predicted: nine\n",
            "label : balance\n",
            "predicted: balance\n",
            "label : lance\n",
            "predicted: lance\n",
            "label : how\n",
            "predicted: how\n",
            "label : make\n",
            "predicted: wave\n",
            "label : miss\n",
            "predicted: im\n",
            "label : a\n",
            "predicted: a\n",
            "label : a\n",
            "predicted: a\n",
            "label : that\n",
            "predicted: lisa\n",
            "label : think\n",
            "predicted: think\n",
            "label : its\n",
            "predicted: and\n",
            "label : of\n",
            "predicted: of\n",
            "label : sorry\n",
            "predicted: here\n",
            "label : one\n",
            "predicted: and\n",
            "label : ah\n",
            "predicted: and\n",
            "label : gun\n",
            "predicted: to\n",
            "label : simpson\n",
            "predicted: simpson\n",
            "label : have\n",
            "predicted: like\n",
            "label : lot\n",
            "predicted: lot\n",
            "label : says\n",
            "predicted: and\n",
            "label : british\n",
            "predicted: kids\n",
            "label : as\n",
            "predicted: as\n",
            "label : captain\n",
            "predicted: web\n",
            "label : always\n",
            "predicted: okay\n",
            "label : sort\n",
            "predicted: sort\n",
            "label : uh\n",
            "predicted: very\n",
            "label : no\n",
            "predicted: no\n",
            "label : i\n",
            "predicted: i\n",
            "label : them\n",
            "predicted: me\n",
            "label : for\n",
            "predicted: for\n",
            "label : cant\n",
            "predicted: cant\n",
            "label : you\n",
            "predicted: you\n",
            "label : im\n",
            "predicted: im\n",
            "label : for\n",
            "predicted: im\n",
            "label : it\n",
            "predicted: me\n",
            "label : im\n",
            "predicted: im\n",
            "label : that\n",
            "predicted: a\n",
            "label : know\n",
            "predicted: know\n",
            "label : a\n",
            "predicted: a\n",
            "label : i\n",
            "predicted: i\n",
            "label : you\n",
            "predicted: i\n",
            "label : money\n",
            "predicted: sure\n",
            "label : new\n",
            "predicted: their\n",
            "label : good\n",
            "predicted: no\n",
            "label : make\n",
            "predicted: on\n",
            "label : power\n",
            "predicted: power\n",
            "label : answer\n",
            "predicted: truth\n",
            "label : a\n",
            "predicted: a\n",
            "label : it\n",
            "predicted: out\n",
            "label : would\n",
            "predicted: would\n",
            "label : dna\n",
            "predicted: there\n",
            "label : for\n",
            "predicted: by\n",
            "label : good\n",
            "predicted: and\n",
            "label : what\n",
            "predicted: what\n",
            "label : history\n",
            "predicted: history\n",
            "label : you\n",
            "predicted: you\n",
            "label : but\n",
            "predicted: but\n",
            "label : pork\n",
            "predicted: pork\n",
            "label : back\n",
            "predicted: and\n",
            "label : no\n",
            "predicted: no\n",
            "label : better\n",
            "predicted: wheres\n",
            "label : like--\n",
            "predicted: like--\n",
            "label : one\n",
            "predicted: this\n",
            "label : be\n",
            "predicted: be\n",
            "label : with\n",
            "predicted: in\n",
            "label : all\n",
            "predicted: and\n",
            "label : or\n",
            "predicted: and\n",
            "label : to\n",
            "predicted: to\n",
            "label : we\n",
            "predicted: we\n",
            "label : take\n",
            "predicted: job\n",
            "label : a\n",
            "predicted: a\n",
            "label : remember\n",
            "predicted: believe\n",
            "label : been\n",
            "predicted: been\n",
            "label : bart\n",
            "predicted: and\n",
            "label : the\n",
            "predicted: up\n",
            "label : homer\n",
            "predicted: money\n",
            "label : somewhere\n",
            "predicted: but\n",
            "label : jack\n",
            "predicted: jack\n",
            "label : and\n",
            "predicted: just\n",
            "label : books\n",
            "predicted: donuts\n",
            "label : cant\n",
            "predicted: cant\n",
            "label : for\n",
            "predicted: for\n",
            "label : exercises\n",
            "predicted: exercises\n",
            "label : mozart\n",
            "predicted: mozart\n",
            "label : ah\n",
            "predicted: and\n",
            "label : me\n",
            "predicted: marge\n",
            "label : on\n",
            "predicted: on\n",
            "label : middle\n",
            "predicted: middle\n",
            "label : poster\n",
            "predicted: poster\n",
            "label : youll\n",
            "predicted: would\n",
            "label : you\n",
            "predicted: i\n",
            "label : just\n",
            "predicted: you\n",
            "label : or\n",
            "predicted: ooh\n",
            "label : weekend\n",
            "predicted: birthday\n",
            "label : my\n",
            "predicted: your\n",
            "label : apple\n",
            "predicted: apple\n",
            "label : come\n",
            "predicted: catch\n",
            "label : marge\n",
            "predicted: but\n",
            "label : ya\n",
            "predicted: i\n",
            "label : can\n",
            "predicted: when\n",
            "label : a\n",
            "predicted: a\n",
            "label : wrong\n",
            "predicted: im\n",
            "label : so\n",
            "predicted: just\n",
            "label : do\n",
            "predicted: do\n",
            "label : of\n",
            "predicted: its\n",
            "label : know\n",
            "predicted: think\n",
            "label : major\n",
            "predicted: things\n",
            "label : ear\n",
            "predicted: stand\n",
            "label : will\n",
            "predicted: to\n",
            "label : great\n",
            "predicted: the\n",
            "label : miss\n",
            "predicted: im\n",
            "label : captain\n",
            "predicted: look\n",
            "label : the\n",
            "predicted: a\n",
            "label : to\n",
            "predicted: to\n",
            "label : up\n",
            "predicted: but\n",
            "label : have\n",
            "predicted: got\n",
            "label : on\n",
            "predicted: now\n",
            "label : the\n",
            "predicted: the\n",
            "label : check\n",
            "predicted: dog\n",
            "label : for\n",
            "predicted: with\n",
            "label : cake\n",
            "predicted: nice\n",
            "label : house\n",
            "predicted: alone\n",
            "label : man\n",
            "predicted: is\n",
            "label : part\n",
            "predicted: hey\n",
            "label : trouble\n",
            "predicted: words\n",
            "label : he\n",
            "predicted: she\n",
            "label : american\n",
            "predicted: canada\n",
            "label : it\n",
            "predicted: it\n",
            "label : joke\n",
            "predicted: man\n",
            "label : of\n",
            "predicted: of\n",
            "label : might\n",
            "predicted: might\n",
            "label : with\n",
            "predicted: with\n",
            "label : move\n",
            "predicted: half\n",
            "label : can\n",
            "predicted: to\n",
            "label : get\n",
            "predicted: is\n",
            "label : box\n",
            "predicted: here\n",
            "label : a\n",
            "predicted: the\n",
            "label : forget\n",
            "predicted: mean\n",
            "label : just\n",
            "predicted: just\n",
            "label : you\n",
            "predicted: you\n",
            "label : powerful\n",
            "predicted: a\n",
            "label : till\n",
            "predicted: ooh\n",
            "label : get\n",
            "predicted: getting\n",
            "label : off\n",
            "predicted: to\n",
            "label : fighting\n",
            "predicted: still\n",
            "label : us\n",
            "predicted: us\n",
            "label : and\n",
            "predicted: who\n",
            "label : that\n",
            "predicted: it\n",
            "label : thought\n",
            "predicted: know\n",
            "label : by\n",
            "predicted: with\n",
            "label : wish\n",
            "predicted: wish\n",
            "label : myself\n",
            "predicted: wait\n",
            "label : blew\n",
            "predicted: give\n",
            "label : a\n",
            "predicted: a\n",
            "label : up\n",
            "predicted: up\n",
            "label : back\n",
            "predicted: back\n",
            "label : out\n",
            "predicted: care\n",
            "label : seven\n",
            "predicted: a\n",
            "label : moe\n",
            "predicted: moe\n",
            "label : that\n",
            "predicted: and\n",
            "label : of\n",
            "predicted: of\n",
            "label : all\n",
            "predicted: up\n",
            "label : mouth\n",
            "predicted: mouth\n",
            "label : really\n",
            "predicted: tell\n",
            "label : hit\n",
            "predicted: with\n",
            "label : still\n",
            "predicted: just\n",
            "label : i\n",
            "predicted: now\n",
            "label : as\n",
            "predicted: as\n",
            "label : turned\n",
            "predicted: pulled\n",
            "label : swallows\n",
            "predicted: swallows\n",
            "label : down\n",
            "predicted: around\n",
            "label : tony\n",
            "predicted: tony\n",
            "label : right\n",
            "predicted: wrong\n",
            "label : dream\n",
            "predicted: sale\n",
            "label : drumming\n",
            "predicted: drumming\n",
            "label : spite\n",
            "predicted: front\n",
            "label : they\n",
            "predicted: and\n",
            "label : owls\n",
            "predicted: owls\n",
            "label : too\n",
            "predicted: how\n",
            "label : in\n",
            "predicted: in\n",
            "label : a\n",
            "predicted: a\n",
            "label : have\n",
            "predicted: has\n",
            "label : score\n",
            "predicted: thing\n",
            "label : our\n",
            "predicted: his\n",
            "label : time\n",
            "predicted: time\n",
            "label : beer\n",
            "predicted: and\n",
            "label : miracle\n",
            "predicted: fraud\n",
            "label : from\n",
            "predicted: from\n",
            "label : im\n",
            "predicted: im\n",
            "label : this\n",
            "predicted: your\n",
            "label : wheres\n",
            "predicted: wheres\n",
            "label : shall\n",
            "predicted: here\n",
            "label : know\n",
            "predicted: do\n",
            "label : your\n",
            "predicted: your\n",
            "label : yeah\n",
            "predicted: and\n",
            "label : dead\n",
            "predicted: here\n",
            "label : an\n",
            "predicted: loser\n",
            "label : you\n",
            "predicted: me\n",
            "label : cakes\n",
            "predicted: cakes\n",
            "label : to\n",
            "predicted: to\n",
            "label : youll\n",
            "predicted: hell\n",
            "label : intelligence\n",
            "predicted: this\n",
            "label : a\n",
            "predicted: a\n",
            "label : worry\n",
            "predicted: worry\n",
            "label : in\n",
            "predicted: theres\n",
            "label : confused\n",
            "predicted: confused\n",
            "label : you\n",
            "predicted: you\n",
            "label : gonna\n",
            "predicted: to\n",
            "label : audience\n",
            "predicted: week\n",
            "label : done\n",
            "predicted: done\n",
            "label : programming\n",
            "predicted: programming\n",
            "label : thing\n",
            "predicted: mind\n",
            "label : to\n",
            "predicted: to\n",
            "label : rid\n",
            "predicted: for\n",
            "label : rock\n",
            "predicted: rock\n",
            "label : the\n",
            "predicted: the\n",
            "label : just\n",
            "predicted: just\n",
            "label : thank\n",
            "predicted: to\n",
            "label : rewarding\n",
            "predicted: rewarding\n",
            "label : i\n",
            "predicted: i\n",
            "label : i\n",
            "predicted: i\n",
            "label : mr\n",
            "predicted: mr\n",
            "label : any\n",
            "predicted: your\n",
            "label : them\n",
            "predicted: it\n",
            "label : no\n",
            "predicted: or\n",
            "label : health\n",
            "predicted: health\n",
            "label : i\n",
            "predicted: dont\n",
            "label : did\n",
            "predicted: did\n",
            "label : already\n",
            "predicted: in\n",
            "label : my\n",
            "predicted: your\n",
            "label : get\n",
            "predicted: do\n",
            "label : never\n",
            "predicted: can\n",
            "label : no\n",
            "predicted: no\n",
            "label : a\n",
            "predicted: ten\n",
            "label : i\n",
            "predicted: weve\n",
            "label : glad\n",
            "predicted: not\n",
            "label : getting\n",
            "predicted: getting\n",
            "label : me\n",
            "predicted: him\n",
            "label : tub\n",
            "predicted: tub\n",
            "label : were\n",
            "predicted: were\n",
            "label : know\n",
            "predicted: know\n",
            "label : wife\n",
            "predicted: wife\n",
            "label : sorry\n",
            "predicted: sorry\n",
            "label : small\n",
            "predicted: very\n",
            "label : oh\n",
            "predicted: and\n",
            "label : increase\n",
            "predicted: blow\n",
            "label : with\n",
            "predicted: in\n",
            "label : interview\n",
            "predicted: interview\n",
            "label : ended\n",
            "predicted: ended\n",
            "label : countin\n",
            "predicted: countin\n",
            "label : a\n",
            "predicted: to\n",
            "label : fly\n",
            "predicted: on\n",
            "label : again\n",
            "predicted: otto\n",
            "Accuracy: 43.0% (387/900)\n"
          ],
          "name": "stdout"
        }
      ]
    },
    {
      "cell_type": "code",
      "metadata": {
        "id": "MdiZDDrJbaVU",
        "colab": {
          "base_uri": "https://localhost:8080/",
          "height": 282
        },
        "outputId": "54ad0b69-1b63-49c8-8e09-86b02b9663cd"
      },
      "source": [
        "%matplotlib inline\n",
        "import matplotlib.pyplot as plt\n",
        "import numpy as np\n",
        "\n",
        "def showPlot(points, title):\n",
        "    plt.figure()\n",
        "    fig, ax = plt.subplots()\n",
        "    plt.plot(points)\n",
        "\n",
        "showPlot(losses, 'CBOW Losses')"
      ],
      "execution_count": 37,
      "outputs": [
        {
          "output_type": "display_data",
          "data": {
            "text/plain": [
              "<Figure size 432x288 with 0 Axes>"
            ]
          },
          "metadata": {
            "tags": []
          }
        },
        {
          "output_type": "display_data",
          "data": {
            "image/png": "[encoded data removed]",
            "text/plain": [
              "<Figure size 432x288 with 1 Axes>"
            ]
          },
          "metadata": {
            "tags": [],
            "needs_background": "light"
          }
        }
      ]
    },
    {
      "cell_type": "markdown",
      "metadata": {
        "id": "xp8r6RJwipn9"
      },
      "source": [
        "## 3. Визуаилизировать embeddings по самым частотным словам (top 1000)"
      ]
    },
    {
      "cell_type": "code",
      "metadata": {
        "id": "ECUc0eFEo6lO"
      },
      "source": [
        "from gensim.models import Word2Vec\n",
        "from collections import Counter\n",
        "from sklearn.decomposition import PCA\n",
        "from pylab import rcParams\n",
        "rcParams['figure.figsize'] = 20,12"
      ],
      "execution_count": 39,
      "outputs": []
    },
    {
      "cell_type": "code",
      "metadata": {
        "id": "1gEz0PtUhY9_"
      },
      "source": [
        "phrases = simpsons['normalized_text'].to_list()"
      ],
      "execution_count": 40,
      "outputs": []
    },
    {
      "cell_type": "code",
      "metadata": {
        "id": "uyrkK1Fkm9e7"
      },
      "source": [
        "sentences = []\n",
        "for phrase in phrases:\n",
        "  phrase_words = [word for word in phrase.split() if word not in rare_words]\n",
        "  sentences.append(phrase_words)"
      ],
      "execution_count": 41,
      "outputs": []
    },
    {
      "cell_type": "code",
      "metadata": {
        "id": "BeSVDV9Lnlz0",
        "colab": {
          "base_uri": "https://localhost:8080/"
        },
        "outputId": "7f1fb927-ad9c-4751-dd97-c54ce745f7e4"
      },
      "source": [
        "sentences[:4]"
      ],
      "execution_count": 42,
      "outputs": [
        {
          "output_type": "execute_result",
          "data": {
            "text/plain": [
              "[['ooo', 'careful', 'homer'],\n",
              " ['theres', 'no', 'time', 'to', 'be', 'careful'],\n",
              " ['were', 'late'],\n",
              " ['sorry', 'excuse', 'us', 'pardon', 'me']]"
            ]
          },
          "metadata": {
            "tags": []
          },
          "execution_count": 42
        }
      ]
    },
    {
      "cell_type": "code",
      "metadata": {
        "id": "K_4nSBY-ocqq",
        "colab": {
          "base_uri": "https://localhost:8080/"
        },
        "outputId": "82798a90-9a19-478a-cda2-de17ab4347b3"
      },
      "source": [
        "# train model\n",
        "model = Word2Vec(sentences, min_count=2)\n",
        "# summarize the loaded model\n",
        "print(model)\n",
        "# summarize vocabulary\n",
        "words = list(model.wv.vocab)\n",
        "#print(words)\n",
        "# access vector for one word\n",
        "print(model['sentence'])\n",
        "# save model\n",
        "model.save('model.bin')\n",
        "# load model\n",
        "new_model = Word2Vec.load('model.bin')\n",
        "print(new_model)"
      ],
      "execution_count": 43,
      "outputs": [
        {
          "output_type": "stream",
          "text": [
            "Word2Vec(vocab=23965, size=100, alpha=0.025)\n",
            "[ 0.1584052   0.06012415  0.03424594  0.09561067  0.22039978 -0.26973468\n",
            " -0.00667914  0.32798955 -0.0038379   0.08585948 -0.2604871   0.25678408\n",
            " -0.04033848  0.13287264 -0.03483397 -0.20544834  0.00046483  0.2849004\n",
            "  0.38130915 -0.02132821  0.391639   -0.01157263 -0.02319028 -0.25243634\n",
            "  0.22097826 -0.24039643  0.21863353 -0.02933987  0.16630742  0.06198176\n",
            "  0.15115903  0.20579332 -0.13762666  0.11667132 -0.00608624 -0.06650642\n",
            " -0.10209158  0.09858853 -0.14479244  0.08641774  0.09415796  0.05423806\n",
            "  0.12460729  0.04832033 -0.12673038  0.16148755  0.1789927  -0.1584928\n",
            "  0.04723481  0.27426162 -0.0402004   0.1205068  -0.1833313  -0.05760165\n",
            "  0.3116295  -0.18924461  0.15220782 -0.13163231  0.06340615 -0.18422851\n",
            " -0.08026051 -0.26882926  0.2184482   0.06695839 -0.34120622 -0.05230239\n",
            " -0.10047033  0.1802782  -0.15564895 -0.10769454 -0.07020517  0.05258073\n",
            " -0.00634794  0.00164054 -0.01737892  0.18231195  0.0646663   0.03121923\n",
            "  0.14509973  0.1756039   0.06321103 -0.150367    0.0297741  -0.01936522\n",
            "  0.26913312 -0.20357408  0.35257867  0.16459052 -0.04158276  0.09696279\n",
            " -0.00280032  0.03121603  0.18542494 -0.00295915 -0.11451907 -0.20739712\n",
            "  0.02805602  0.02537189 -0.13805945  0.14792925]\n",
            "Word2Vec(vocab=23965, size=100, alpha=0.025)\n"
          ],
          "name": "stdout"
        }
      ]
    },
    {
      "cell_type": "code",
      "metadata": {
        "id": "-UB3hLHawOBG"
      },
      "source": [
        "def plot_most_common_word(df,model,rare_words,n = 100):\n",
        "  phrases = df['normalized_text'].to_list()\n",
        "  text = phrases_to_text(phrases)\n",
        "  querywords = text.split()\n",
        "  resultwords  = [word for word in querywords if word not in rare_words]\n",
        "  cntr = Counter(resultwords)\n",
        "  top_n = cntr.most_common(n)\n",
        "  most_common = []\n",
        "\n",
        "  for word,count in top_n:\n",
        "    most_common.append(word)\n",
        "  \n",
        "  X = model[most_common]\n",
        "\n",
        "  pca = PCA(n_components=2)\n",
        "  result = pca.fit_transform(X)\n",
        "  plt.scatter(result[:, 0], result[:, 1])\n",
        "  words = most_common\n",
        "  for i, word in enumerate(words):\n",
        "\t  plt.annotate(word, xy=(result[i, 0], result[i, 1]))\n",
        "  plt.show()"
      ],
      "execution_count": 44,
      "outputs": []
    },
    {
      "cell_type": "code",
      "metadata": {
        "id": "No_JDtQYPc5R"
      },
      "source": [
        "rcParams['figure.figsize'] = 16,10"
      ],
      "execution_count": 45,
      "outputs": []
    },
    {
      "cell_type": "code",
      "metadata": {
        "id": "PJNwx3L5qwcX",
        "colab": {
          "base_uri": "https://localhost:8080/",
          "height": 609
        },
        "outputId": "e8c03739-ddf8-478d-f348-539112c15d3c"
      },
      "source": [
        "plot_most_common_word(simpsons,model,rare_words,n=150)"
      ],
      "execution_count": 46,
      "outputs": [
        {
          "output_type": "stream",
          "text": [
            "Число удаленных цифр в тексте 10\n"
          ],
          "name": "stdout"
        },
        {
          "output_type": "display_data",
          "data": {
            "image/png": "[encoded data removed]",
            "text/plain": [
              "<Figure size 1152x720 with 1 Axes>"
            ]
          },
          "metadata": {
            "tags": [],
            "needs_background": "light"
          }
        }
      ]
    },
    {
      "cell_type": "code",
      "metadata": {
        "id": "2w-RWIdfP1aX",
        "colab": {
          "base_uri": "https://localhost:8080/",
          "height": 609
        },
        "outputId": "b44b98c2-a926-4909-a8ff-2131b494fe43"
      },
      "source": [
        "plot_most_common_word(simpsons,model,rare_words,n=1000)"
      ],
      "execution_count": 47,
      "outputs": [
        {
          "output_type": "stream",
          "text": [
            "Число удаленных цифр в тексте 10\n"
          ],
          "name": "stdout"
        },
        {
          "output_type": "display_data",
          "data": {
            "image/png": "[encoded data removed]",
            "text/plain": [
              "<Figure size 1152x720 with 1 Axes>"
            ]
          },
          "metadata": {
            "tags": [],
            "needs_background": "light"
          }
        }
      ]
    },
    {
      "cell_type": "markdown",
      "metadata": {
        "id": "ksJEMhjKMGjy"
      },
      "source": [
        "##4. Найти самые близкие слова для:\n",
        "  homer - marge + bart\n",
        "\n",
        "  bart - lisa + school\n",
        "  \n",
        "  marge - homer + home"
      ]
    },
    {
      "cell_type": "code",
      "metadata": {
        "id": "Diw8nVBVYvX2",
        "colab": {
          "base_uri": "https://localhost:8080/"
        },
        "outputId": "f89aad19-6057-4410-a3ee-54421faf1571"
      },
      "source": [
        "new_model"
      ],
      "execution_count": 48,
      "outputs": [
        {
          "output_type": "execute_result",
          "data": {
            "text/plain": [
              "<gensim.models.word2vec.Word2Vec at 0x7f8574573eb8>"
            ]
          },
          "metadata": {
            "tags": []
          },
          "execution_count": 48
        }
      ]
    },
    {
      "cell_type": "code",
      "metadata": {
        "id": "h3fKA_-nLILt",
        "colab": {
          "base_uri": "https://localhost:8080/"
        },
        "outputId": "fe97c832-3561-417b-c749-770a5d9501c3"
      },
      "source": [
        "# calculate: homer - marge + bart\n",
        "result = new_model.most_similar(positive=['homer', 'bart'], negative=['marge'], topn=5)\n",
        "print(result)"
      ],
      "execution_count": 49,
      "outputs": [
        {
          "output_type": "stream",
          "text": [
            "[('lisa', 0.8088754415512085), ('milhouse', 0.6684340238571167), ('grampa', 0.6568875312805176), ('abe', 0.6315867304801941), ('dad', 0.6124290227890015)]\n"
          ],
          "name": "stdout"
        }
      ]
    },
    {
      "cell_type": "code",
      "metadata": {
        "id": "9t8lVpowOwP0",
        "colab": {
          "base_uri": "https://localhost:8080/"
        },
        "outputId": "3d405a91-3c6e-4597-cf4e-05eac2ad6a30"
      },
      "source": [
        "# calculate: bart - lisa + school\n",
        "result = new_model.most_similar(positive=['school', 'bart'], negative=['lisa'], topn=5)\n",
        "print(result)"
      ],
      "execution_count": 50,
      "outputs": [
        {
          "output_type": "stream",
          "text": [
            "[('store', 0.7364215850830078), ('church', 0.7297276258468628), ('game', 0.7246192693710327), ('house', 0.7161989808082581), ('christmas', 0.7110389471054077)]\n"
          ],
          "name": "stdout"
        }
      ]
    },
    {
      "cell_type": "code",
      "metadata": {
        "id": "ydGFlj7uO6EN",
        "colab": {
          "base_uri": "https://localhost:8080/"
        },
        "outputId": "53a4dd88-33e0-45b6-bd0c-665eaae72e7e"
      },
      "source": [
        "# calculate: marge - homer + home\n",
        "result = new_model.most_similar(positive=['marge', 'home'], negative=['homer'], topn=5)\n",
        "print(result)"
      ],
      "execution_count": 51,
      "outputs": [
        {
          "output_type": "stream",
          "text": [
            "[('back', 0.7649878263473511), ('sleep', 0.7216026186943054), ('bed', 0.7139748930931091), ('here', 0.6332032680511475), ('away', 0.6177801489830017)]\n"
          ],
          "name": "stdout"
        }
      ]
    },
    {
      "cell_type": "markdown",
      "metadata": {
        "id": "caCEpoX0RLfO"
      },
      "source": [
        "## 5. Классификатор Bart/Lisa"
      ]
    },
    {
      "cell_type": "code",
      "metadata": {
        "id": "IQhwkmY_TTWA"
      },
      "source": [
        "import math\n",
        "import numpy as np"
      ],
      "execution_count": 52,
      "outputs": []
    },
    {
      "cell_type": "code",
      "metadata": {
        "id": "sisJlNp6RZgI",
        "colab": {
          "base_uri": "https://localhost:8080/"
        },
        "outputId": "03352f6c-8beb-496b-bea9-0e40923a229d"
      },
      "source": [
        "new_model"
      ],
      "execution_count": 53,
      "outputs": [
        {
          "output_type": "execute_result",
          "data": {
            "text/plain": [
              "<gensim.models.word2vec.Word2Vec at 0x7f8574573eb8>"
            ]
          },
          "metadata": {
            "tags": []
          },
          "execution_count": 53
        }
      ]
    },
    {
      "cell_type": "code",
      "metadata": {
        "id": "TLacXnD0RKW_",
        "colab": {
          "base_uri": "https://localhost:8080/"
        },
        "outputId": "d438b0b2-3a73-4385-81cd-2f7a1319824b"
      },
      "source": [
        "model['marge']"
      ],
      "execution_count": 54,
      "outputs": [
        {
          "output_type": "execute_result",
          "data": {
            "text/plain": [
              "array([ 0.19853958,  0.3492426 , -0.34410515,  0.18310864,  0.58753663,\n",
              "       -0.9199358 , -0.15576996,  0.76840824,  0.30276307,  0.22165495,\n",
              "       -1.5042725 ,  0.31104976, -0.6506246 ,  0.35177544,  0.3373222 ,\n",
              "        0.08122038, -0.1002769 ,  0.2511405 ,  0.4272088 , -0.4880019 ,\n",
              "        1.2271695 ,  0.51563096,  1.2759758 ,  0.70418817,  0.54245573,\n",
              "        0.4878799 , -0.7904364 , -1.4486525 , -0.85598207, -1.1923677 ,\n",
              "        0.1042343 ,  0.6484059 ,  0.12807205,  0.28334317, -0.869053  ,\n",
              "       -0.23902154,  0.82755774,  0.9534054 , -0.3283206 ,  0.18489791,\n",
              "        1.0344166 ,  2.209579  ,  0.00308554, -0.4117618 ,  1.329955  ,\n",
              "       -0.32600683, -0.01063201, -1.1620154 , -0.5928622 ,  0.3923875 ,\n",
              "        1.0794399 ,  1.3460897 , -0.9434755 , -0.8420717 , -0.14554437,\n",
              "       -0.93703675, -0.02804806,  0.09630331, -0.43527642, -1.4345542 ,\n",
              "       -0.07594731, -2.057619  ,  0.7656529 , -0.6494219 , -0.4737069 ,\n",
              "       -0.87399966, -1.9705162 , -1.5316476 , -0.02055237, -0.60056907,\n",
              "       -0.7429558 ,  0.5693297 ,  0.88697726, -0.38031104,  0.33484438,\n",
              "        1.1295333 ,  0.35788634,  0.427806  , -0.6672843 ,  0.7474092 ,\n",
              "        0.2147507 , -0.2709931 ,  0.9366536 , -0.9045484 ,  1.2978151 ,\n",
              "        0.26560804,  0.3755111 ,  0.5146393 ,  0.41355035,  0.04708845,\n",
              "        0.770081  ,  0.26953638,  0.01948084, -1.102312  ,  0.28329355,\n",
              "        0.06286769, -0.64554286,  0.09529084,  0.61067444,  0.04483443],\n",
              "      dtype=float32)"
            ]
          },
          "metadata": {
            "tags": []
          },
          "execution_count": 54
        }
      ]
    },
    {
      "cell_type": "code",
      "metadata": {
        "id": "hA8r7zTdS7xJ"
      },
      "source": [
        "def length(v):\n",
        "  return math.sqrt(np.dot(v, v))\n",
        "\n",
        "def cos_vectors(v1, v2):\n",
        "  return np.dot(v1,v2) / (length(v1) * length(v2))"
      ],
      "execution_count": 55,
      "outputs": []
    },
    {
      "cell_type": "code",
      "metadata": {
        "id": "lzbwekTVTZc0"
      },
      "source": [
        "def bart_lisa_classificator(word2classificate,model):\n",
        "  word_vector = model[word2classificate]\n",
        "  bart_vector = model['bart']\n",
        "  lisa_vector = model['lisa']\n",
        "  bart_cos = cos_vectors(bart_vector,word_vector)\n",
        "  lisa_cos = cos_vectors(lisa_vector,word_vector)\n",
        "  bart_cos = round(bart_cos,3)\n",
        "  lisa_cos = round(lisa_cos,3)\n",
        "  if bart_cos > lisa_cos:\n",
        "    print('This is Bart')\n",
        "  elif lisa_cos > bart_cos:\n",
        "    print('This is Lisa')\n",
        "  else:\n",
        "    print('The word  belongs both Bart and Lisa ')\n",
        "  print('COS  for Bart', bart_cos)\n",
        "  print('COS for Lisa', lisa_cos)\n",
        "  return"
      ],
      "execution_count": 56,
      "outputs": []
    },
    {
      "cell_type": "code",
      "metadata": {
        "id": "9KzgotYjWhYs",
        "colab": {
          "base_uri": "https://localhost:8080/"
        },
        "outputId": "8543dc4f-a5e5-4b1d-e091-8ad8bf02cd2a"
      },
      "source": [
        "bart_lisa_classificator('game',model)"
      ],
      "execution_count": 57,
      "outputs": [
        {
          "output_type": "stream",
          "text": [
            "This is Bart\n",
            "COS  for Bart 0.434\n",
            "COS for Lisa 0.347\n"
          ],
          "name": "stdout"
        }
      ]
    },
    {
      "cell_type": "code",
      "metadata": {
        "id": "VP9sZOT-Wsn5",
        "colab": {
          "base_uri": "https://localhost:8080/"
        },
        "outputId": "39dfc597-6d50-4adc-c2ea-4ec9a421a56a"
      },
      "source": [
        "bart_lisa_classificator('music',model)"
      ],
      "execution_count": 58,
      "outputs": [
        {
          "output_type": "stream",
          "text": [
            "This is Lisa\n",
            "COS  for Bart 0.246\n",
            "COS for Lisa 0.26\n"
          ],
          "name": "stdout"
        }
      ]
    },
    {
      "cell_type": "code",
      "metadata": {
        "id": "dUGJd-c5fkMM",
        "colab": {
          "base_uri": "https://localhost:8080/"
        },
        "outputId": "9edb574b-8f6b-4451-ce7d-82f3c50f3321"
      },
      "source": [
        "bart_lisa_classificator('jazz',model)"
      ],
      "execution_count": 59,
      "outputs": [
        {
          "output_type": "stream",
          "text": [
            "This is Lisa\n",
            "COS  for Bart 0.218\n",
            "COS for Lisa 0.29\n"
          ],
          "name": "stdout"
        }
      ]
    }
  ]
}