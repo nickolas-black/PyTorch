
{
  "nbformat": 4,
  "nbformat_minor": 0,
  "metadata": {
    "kernelspec": {
      "display_name": "Python 3",
      "language": "python",
      "name": "python3"
    },
    "language_info": {
      "codemirror_mode": {
        "name": "ipython",
        "version": 3
      },
      "file_extension": ".py",
      "mimetype": "text/x-python",
      "name": "python",
      "nbconvert_exporter": "python",
      "pygments_lexer": "ipython3",
      "version": "3.6.8"
    },
    "colab": {
      "name": "Transformer",
      "provenance": [],
      "collapsed_sections": []
    }
  },
  "cells": [
    {
      "cell_type": "code",
      "metadata": {
        "id": "BEkDtWCBrWiB"
      },
      "source": [
        "%matplotlib inline"
      ],
      "execution_count": 1,
      "outputs": []
    },
    {
      "cell_type": "code",
      "metadata": {
        "id": "ovfRlT_osPz6",
        "colab": {
          "base_uri": "https://localhost:8080/"
        },
        "outputId": "a0294787-ae78-4256-dc7e-bc7296945b1d"
      },
      "source": [
        "!pip3 install torchtext==0.4.0"
      ],
      "execution_count": 2,
      "outputs": [
        {
          "output_type": "stream",
          "text": [
            "Collecting torchtext==0.4.0\n",
            "\u001b[?25l  Downloading https://files.pythonhosted.org/packages/43/94/929d6bd236a4fb5c435982a7eb9730b78dcd8659acf328fd2ef9de85f483/torchtext-0.4.0-py3-none-any.whl (53kB)\n",
            "\r\u001b[K     |██████▏                         | 10kB 16.7MB/s eta 0:00:01\r\u001b[K     |████████████▍                   | 20kB 21.1MB/s eta 0:00:01\r\u001b[K     |██████████████████▌             | 30kB 23.1MB/s eta 0:00:01\r\u001b[K     |████████████████████████▊       | 40kB 10.9MB/s eta 0:00:01\r\u001b[K     |██████████████████████████████▉ | 51kB 8.2MB/s eta 0:00:01\r\u001b[K     |████████████████████████████████| 61kB 4.6MB/s \n",
            "\u001b[?25hRequirement already satisfied: requests in /usr/local/lib/python3.6/dist-packages (from torchtext==0.4.0) (2.23.0)\n",
            "Requirement already satisfied: six in /usr/local/lib/python3.6/dist-packages (from torchtext==0.4.0) (1.15.0)\n",
            "Requirement already satisfied: torch in /usr/local/lib/python3.6/dist-packages (from torchtext==0.4.0) (1.7.0+cu101)\n",
            "Requirement already satisfied: tqdm in /usr/local/lib/python3.6/dist-packages (from torchtext==0.4.0) (4.41.1)\n",
            "Requirement already satisfied: numpy in /usr/local/lib/python3.6/dist-packages (from torchtext==0.4.0) (1.19.4)\n",
            "Requirement already satisfied: urllib3!=1.25.0,!=1.25.1,<1.26,>=1.21.1 in /usr/local/lib/python3.6/dist-packages (from requests->torchtext==0.4.0) (1.24.3)\n",
            "Requirement already satisfied: chardet<4,>=3.0.2 in /usr/local/lib/python3.6/dist-packages (from requests->torchtext==0.4.0) (3.0.4)\n",
            "Requirement already satisfied: idna<3,>=2.5 in /usr/local/lib/python3.6/dist-packages (from requests->torchtext==0.4.0) (2.10)\n",
            "Requirement already satisfied: certifi>=2017.4.17 in /usr/local/lib/python3.6/dist-packages (from requests->torchtext==0.4.0) (2020.12.5)\n",
            "Requirement already satisfied: future in /usr/local/lib/python3.6/dist-packages (from torch->torchtext==0.4.0) (0.16.0)\n",
            "Requirement already satisfied: dataclasses in /usr/local/lib/python3.6/dist-packages (from torch->torchtext==0.4.0) (0.8)\n",
            "Requirement already satisfied: typing-extensions in /usr/local/lib/python3.6/dist-packages (from torch->torchtext==0.4.0) (3.7.4.3)\n",
            "Installing collected packages: torchtext\n",
            "  Found existing installation: torchtext 0.3.1\n",
            "    Uninstalling torchtext-0.3.1:\n",
            "      Successfully uninstalled torchtext-0.3.1\n",
            "Successfully installed torchtext-0.4.0\n"
          ],
          "name": "stdout"
        }
      ]
    },
    {
      "cell_type": "code",
      "metadata": {
        "id": "kVryfOuqrWiP"
      },
      "source": [
        "import math\n",
        "import torch\n",
        "import torch.nn as nn\n",
        "import torch.nn.functional as F\n",
        "\n",
        "class TransformerModel(nn.Module):\n",
        "\n",
        "    def __init__(self, ntoken, ninp, nhead, nhid, nlayers, dropout=0.5):\n",
        "        super(TransformerModel, self).__init__()\n",
        "        from torch.nn import TransformerEncoder, TransformerEncoderLayer\n",
        "        self.model_type = 'Transformer'\n",
        "        self.src_mask = None\n",
        "        self.pos_encoder = PositionalEncoding(ninp, dropout)\n",
        "        encoder_layers = TransformerEncoderLayer(ninp, nhead, nhid, dropout)\n",
        "        self.transformer_encoder = TransformerEncoder(encoder_layers, nlayers)\n",
        "        self.encoder = nn.Embedding(ntoken, ninp)\n",
        "        self.ninp = ninp\n",
        "        self.decoder = nn.Linear(ninp, ntoken)\n",
        "\n",
        "        self.init_weights()\n",
        "\n",
        "    def _generate_square_subsequent_mask(self, sz):\n",
        "        mask = (torch.triu(torch.ones(sz, sz)) == 1).transpose(0, 1)\n",
        "        mask = mask.float().masked_fill(mask == 0, float('-inf')).masked_fill(mask == 1, float(0.0))\n",
        "        return mask\n",
        "\n",
        "    def init_weights(self):\n",
        "        initrange = 0.1\n",
        "        self.encoder.weight.data.uniform_(-initrange, initrange)\n",
        "        self.decoder.bias.data.zero_()\n",
        "        self.decoder.weight.data.uniform_(-initrange, initrange)\n",
        "\n",
        "    def forward(self, src):\n",
        "        if self.src_mask is None or self.src_mask.size(0) != len(src):\n",
        "            device = src.device\n",
        "            mask = self._generate_square_subsequent_mask(len(src)).to(device)\n",
        "            self.src_mask = mask\n",
        "\n",
        "        src = self.encoder(src) * math.sqrt(self.ninp)\n",
        "        src = self.pos_encoder(src)\n",
        "        output = self.transformer_encoder(src, self.src_mask)\n",
        "        output = self.decoder(output)\n",
        "        return output"
      ],
      "execution_count": 3,
      "outputs": []
    },
    {
      "cell_type": "code",
      "metadata": {
        "id": "zhoUNOCGrWiU"
      },
      "source": [
        "class PositionalEncoding(nn.Module):\n",
        "\n",
        "    def __init__(self, d_model, dropout=0.1, max_len=5000):\n",
        "        super(PositionalEncoding, self).__init__()\n",
        "        self.dropout = nn.Dropout(p=dropout)\n",
        "\n",
        "        pe = torch.zeros(max_len, d_model)\n",
        "        position = torch.arange(0, max_len, dtype=torch.float).unsqueeze(1)\n",
        "        div_term = torch.exp(torch.arange(0, d_model, 2).float() * (-math.log(10000.0) / d_model))\n",
        "        pe[:, 0::2] = torch.sin(position * div_term)\n",
        "        pe[:, 1::2] = torch.cos(position * div_term)\n",
        "        pe = pe.unsqueeze(0).transpose(0, 1)\n",
        "        self.register_buffer('pe', pe)\n",
        "\n",
        "    def forward(self, x):\n",
        "        x = x + self.pe[:x.size(0), :]\n",
        "        return self.dropout(x)"
      ],
      "execution_count": 4,
      "outputs": []
    },
    {
      "cell_type": "code",
      "metadata": {
        "id": "ITqwRN7erWiY",
        "colab": {
          "base_uri": "https://localhost:8080/"
        },
        "outputId": "868f54d6-0f0c-4471-9b9b-383937b3e029"
      },
      "source": [
        "import torchtext\n",
        "from torchtext.data.utils import get_tokenizer\n",
        "TEXT = torchtext.data.Field(tokenize=get_tokenizer(\"basic_english\"),\n",
        "                            init_token='<sos>',\n",
        "                            eos_token='<eos>',\n",
        "                            lower=True)\n",
        "train_txt, val_txt, test_txt = torchtext.datasets.WikiText2.splits(TEXT)\n",
        "TEXT.build_vocab(train_txt)\n",
        "device = torch.device(\"cuda\" if torch.cuda.is_available() else \"cpu\")\n",
        "\n",
        "def batchify(data, bsz):\n",
        "    data = TEXT.numericalize([data.examples[0].text])\n",
        "    # Divide the dataset into bsz parts.\n",
        "    nbatch = data.size(0) // bsz\n",
        "    # Trim off any extra elements that wouldn't cleanly fit (remainders).\n",
        "    data = data.narrow(0, 0, nbatch * bsz)\n",
        "    # Evenly divide the data across the bsz batches.\n",
        "    data = data.view(bsz, -1).t().contiguous()\n",
        "    return data.to(device)\n",
        "\n",
        "batch_size = 20\n",
        "eval_batch_size = 10\n",
        "train_data = batchify(train_txt, batch_size)\n",
        "val_data = batchify(val_txt, eval_batch_size)\n",
        "test_data = batchify(test_txt, eval_batch_size)"
      ],
      "execution_count": 5,
      "outputs": [
        {
          "output_type": "stream",
          "text": [
            "downloading wikitext-2-v1.zip\n"
          ],
          "name": "stdout"
        },
        {
          "output_type": "stream",
          "text": [
            "wikitext-2-v1.zip: 100%|██████████| 4.48M/4.48M [00:00<00:00, 8.60MB/s]\n"
          ],
          "name": "stderr"
        },
        {
          "output_type": "stream",
          "text": [
            "extracting\n"
          ],
          "name": "stdout"
        }
      ]
    },
    {
      "cell_type": "code",
      "metadata": {
        "id": "WtOrBCIjrWib"
      },
      "source": [
        "bptt = 35\n",
        "def get_batch(source, i):\n",
        "    seq_len = min(bptt, len(source) - 1 - i)\n",
        "    data = source[i:i+seq_len]\n",
        "    target = source[i+1:i+1+seq_len].view(-1)\n",
        "    return data, target"
      ],
      "execution_count": 6,
      "outputs": []
    },
    {
      "cell_type": "code",
      "metadata": {
        "id": "t-7nyDzcrWid"
      },
      "source": [
        "ntokens = len(TEXT.vocab.stoi) # the size of vocabulary\n",
        "emsize = 200 # embedding dimension\n",
        "nhid = 200 # the dimension of the feedforward network model in nn.TransformerEncoder\n",
        "nlayers = 2 # the number of nn.TransformerEncoderLayer in nn.TransformerEncoder\n",
        "nhead = 2 # the number of heads in the multiheadattention models\n",
        "dropout = 0.2 # the dropout value\n",
        "model = TransformerModel(ntokens, emsize, nhead, nhid, nlayers, dropout).to(device)"
      ],
      "execution_count": 7,
      "outputs": []
    },
    {
      "cell_type": "code",
      "metadata": {
        "id": "X4KtdtWErWig"
      },
      "source": [
        "criterion = nn.CrossEntropyLoss()\n",
        "lr = 5.0 # learning rate\n",
        "optimizer = torch.optim.SGD(model.parameters(), lr=lr)\n",
        "scheduler = torch.optim.lr_scheduler.StepLR(optimizer, 1.0, gamma=0.95)\n",
        "\n",
        "import time\n",
        "def train():\n",
        "    model.train() # Turn on the train mode\n",
        "    total_loss = 0.\n",
        "    start_time = time.time()\n",
        "    ntokens = len(TEXT.vocab.stoi)\n",
        "    for batch, i in enumerate(range(0, train_data.size(0) - 1, bptt)):\n",
        "        data, targets = get_batch(train_data, i)\n",
        "        optimizer.zero_grad()\n",
        "        output = model(data)\n",
        "        loss = criterion(output.view(-1, ntokens), targets)\n",
        "        loss.backward()\n",
        "        torch.nn.utils.clip_grad_norm_(model.parameters(), 0.5)\n",
        "        optimizer.step()\n",
        "\n",
        "        total_loss += loss.item()\n",
        "        log_interval = 200\n",
        "        if batch % log_interval == 0 and batch > 0:\n",
        "            cur_loss = total_loss / log_interval\n",
        "            elapsed = time.time() - start_time\n",
        "            print('| epoch {:3d} | {:5d}/{:5d} batches | '\n",
        "                  'lr {:02.2f} | ms/batch {:5.2f} | '\n",
        "                  'loss {:5.2f} | ppl {:8.2f}'.format(\n",
        "                    epoch, batch, len(train_data) // bptt, scheduler.get_lr()[0],\n",
        "                    elapsed * 1000 / log_interval,\n",
        "                    cur_loss, math.exp(cur_loss)))\n",
        "            total_loss = 0\n",
        "            start_time = time.time()\n",
        "\n",
        "def evaluate(eval_model, data_source):\n",
        "    eval_model.eval() # Turn on the evaluation mode\n",
        "    total_loss = 0.\n",
        "    ntokens = len(TEXT.vocab.stoi)\n",
        "    with torch.no_grad():\n",
        "        for i in range(0, data_source.size(0) - 1, bptt):\n",
        "            data, targets = get_batch(data_source, i)\n",
        "            output = eval_model(data)\n",
        "            output_flat = output.view(-1, ntokens)\n",
        "            total_loss += len(data) * criterion(output_flat, targets).item()\n",
        "    return total_loss / (len(data_source) - 1)"
      ],
      "execution_count": 8,
      "outputs": []
    },
    {
      "cell_type": "code",
      "metadata": {
        "id": "OLpqBeNArWih",
        "colab": {
          "base_uri": "https://localhost:8080/"
        },
        "outputId": "9442de45-f62c-405b-85f8-b75cce30c40a"
      },
      "source": [
        "best_val_loss = float(\"inf\")\n",
        "epochs = 3 # The number of epochs\n",
        "best_model = None\n",
        "\n",
        "for epoch in range(1, epochs + 1):\n",
        "    epoch_start_time = time.time()\n",
        "    train()\n",
        "    val_loss = evaluate(model, val_data)\n",
        "    print('-' * 89)\n",
        "    print('| end of epoch {:3d} | time: {:5.2f}s | valid loss {:5.2f} | '\n",
        "          'valid ppl {:8.2f}'.format(epoch, (time.time() - epoch_start_time),\n",
        "                                     val_loss, math.exp(val_loss)))\n",
        "    print('-' * 89)\n",
        "\n",
        "    if val_loss < best_val_loss:\n",
        "        best_val_loss = val_loss\n",
        "        best_model = model\n",
        "\n",
        "    scheduler.step()"
      ],
      "execution_count": 9,
      "outputs": [
        {
          "output_type": "stream",
          "text": [
            "/usr/local/lib/python3.6/dist-packages/torch/optim/lr_scheduler.py:370: UserWarning: To get the last learning rate computed by the scheduler, please use `get_last_lr()`.\n",
            "  \"please use `get_last_lr()`.\", UserWarning)\n"
          ],
          "name": "stderr"
        },
        {
          "output_type": "stream",
          "text": [
            "| epoch   1 |   200/ 2981 batches | lr 5.00 | ms/batch 674.71 | loss  7.95 | ppl  2822.43\n",
            "| epoch   1 |   400/ 2981 batches | lr 5.00 | ms/batch 670.47 | loss  6.75 | ppl   855.57\n",
            "| epoch   1 |   600/ 2981 batches | lr 5.00 | ms/batch 667.08 | loss  6.36 | ppl   580.04\n",
            "| epoch   1 |   800/ 2981 batches | lr 5.00 | ms/batch 688.50 | loss  6.22 | ppl   501.76\n",
            "| epoch   1 |  1000/ 2981 batches | lr 5.00 | ms/batch 667.25 | loss  6.11 | ppl   452.43\n",
            "| epoch   1 |  1200/ 2981 batches | lr 5.00 | ms/batch 667.38 | loss  6.08 | ppl   437.69\n",
            "| epoch   1 |  1400/ 2981 batches | lr 5.00 | ms/batch 664.72 | loss  6.03 | ppl   414.89\n",
            "| epoch   1 |  1600/ 2981 batches | lr 5.00 | ms/batch 665.62 | loss  6.04 | ppl   421.06\n",
            "| epoch   1 |  1800/ 2981 batches | lr 5.00 | ms/batch 670.13 | loss  5.95 | ppl   383.28\n",
            "| epoch   1 |  2000/ 2981 batches | lr 5.00 | ms/batch 674.57 | loss  5.94 | ppl   380.67\n",
            "| epoch   1 |  2200/ 2981 batches | lr 5.00 | ms/batch 690.12 | loss  5.84 | ppl   343.17\n",
            "| epoch   1 |  2400/ 2981 batches | lr 5.00 | ms/batch 698.41 | loss  5.88 | ppl   358.36\n",
            "| epoch   1 |  2600/ 2981 batches | lr 5.00 | ms/batch 719.25 | loss  5.90 | ppl   365.22\n",
            "| epoch   1 |  2800/ 2981 batches | lr 5.00 | ms/batch 736.28 | loss  5.79 | ppl   327.77\n",
            "-----------------------------------------------------------------------------------------\n",
            "| end of epoch   1 | time: 2119.99s | valid loss  5.68 | valid ppl   292.35\n",
            "-----------------------------------------------------------------------------------------\n",
            "| epoch   2 |   200/ 2981 batches | lr 4.51 | ms/batch 768.06 | loss  5.78 | ppl   325.33\n",
            "| epoch   2 |   400/ 2981 batches | lr 4.51 | ms/batch 784.16 | loss  5.77 | ppl   320.18\n",
            "| epoch   2 |   600/ 2981 batches | lr 4.51 | ms/batch 761.52 | loss  5.59 | ppl   267.38\n",
            "| epoch   2 |   800/ 2981 batches | lr 4.51 | ms/batch 757.04 | loss  5.63 | ppl   278.54\n",
            "| epoch   2 |  1000/ 2981 batches | lr 4.51 | ms/batch 754.97 | loss  5.57 | ppl   263.72\n",
            "| epoch   2 |  1200/ 2981 batches | lr 4.51 | ms/batch 764.98 | loss  5.60 | ppl   269.46\n",
            "| epoch   2 |  1400/ 2981 batches | lr 4.51 | ms/batch 757.85 | loss  5.61 | ppl   273.12\n",
            "| epoch   2 |  1600/ 2981 batches | lr 4.51 | ms/batch 767.38 | loss  5.65 | ppl   283.18\n",
            "| epoch   2 |  1800/ 2981 batches | lr 4.51 | ms/batch 757.59 | loss  5.58 | ppl   264.30\n",
            "| epoch   2 |  2000/ 2981 batches | lr 4.51 | ms/batch 762.15 | loss  5.60 | ppl   270.32\n",
            "| epoch   2 |  2200/ 2981 batches | lr 4.51 | ms/batch 757.42 | loss  5.50 | ppl   244.53\n",
            "| epoch   2 |  2400/ 2981 batches | lr 4.51 | ms/batch 790.17 | loss  5.56 | ppl   259.09\n",
            "| epoch   2 |  2600/ 2981 batches | lr 4.51 | ms/batch 784.97 | loss  5.57 | ppl   263.23\n",
            "| epoch   2 |  2800/ 2981 batches | lr 4.51 | ms/batch 792.01 | loss  5.49 | ppl   242.89\n",
            "-----------------------------------------------------------------------------------------\n",
            "| end of epoch   2 | time: 2361.64s | valid loss  5.55 | valid ppl   256.89\n",
            "-----------------------------------------------------------------------------------------\n",
            "| epoch   3 |   200/ 2981 batches | lr 4.29 | ms/batch 760.36 | loss  5.52 | ppl   250.72\n",
            "| epoch   3 |   400/ 2981 batches | lr 4.29 | ms/batch 746.63 | loss  5.53 | ppl   251.89\n",
            "| epoch   3 |   600/ 2981 batches | lr 4.29 | ms/batch 750.08 | loss  5.34 | ppl   207.87\n",
            "| epoch   3 |   800/ 2981 batches | lr 4.29 | ms/batch 744.85 | loss  5.40 | ppl   221.71\n",
            "| epoch   3 |  1000/ 2981 batches | lr 4.29 | ms/batch 742.73 | loss  5.36 | ppl   213.38\n",
            "| epoch   3 |  1200/ 2981 batches | lr 4.29 | ms/batch 737.49 | loss  5.39 | ppl   219.46\n",
            "| epoch   3 |  1400/ 2981 batches | lr 4.29 | ms/batch 737.51 | loss  5.42 | ppl   225.70\n",
            "| epoch   3 |  1600/ 2981 batches | lr 4.29 | ms/batch 737.19 | loss  5.46 | ppl   235.50\n",
            "| epoch   3 |  1800/ 2981 batches | lr 4.29 | ms/batch 733.72 | loss  5.38 | ppl   216.69\n",
            "| epoch   3 |  2000/ 2981 batches | lr 4.29 | ms/batch 735.04 | loss  5.42 | ppl   225.24\n",
            "| epoch   3 |  2200/ 2981 batches | lr 4.29 | ms/batch 729.11 | loss  5.31 | ppl   202.36\n",
            "| epoch   3 |  2400/ 2981 batches | lr 4.29 | ms/batch 726.94 | loss  5.38 | ppl   216.00\n",
            "| epoch   3 |  2600/ 2981 batches | lr 4.29 | ms/batch 728.98 | loss  5.40 | ppl   221.71\n",
            "| epoch   3 |  2800/ 2981 batches | lr 4.29 | ms/batch 728.14 | loss  5.33 | ppl   206.96\n",
            "-----------------------------------------------------------------------------------------\n",
            "| end of epoch   3 | time: 2265.61s | valid loss  5.49 | valid ppl   242.16\n",
            "-----------------------------------------------------------------------------------------\n"
          ],
          "name": "stdout"
        }
      ]
    },
    {
      "cell_type": "code",
      "metadata": {
        "id": "FPhq91sXrWii",
        "colab": {
          "base_uri": "https://localhost:8080/"
        },
        "outputId": "c525c270-b10e-44c8-f5c0-5b9e35e1ea34"
      },
      "source": [
        "test_loss = evaluate(best_model, test_data)\n",
        "print('=' * 89)\n",
        "print('| End of training | test loss {:5.2f} | test ppl {:8.2f}'.format(\n",
        "    test_loss, math.exp(test_loss)))\n",
        "print('=' * 89)"
      ],
      "execution_count": 10,
      "outputs": [
        {
          "output_type": "stream",
          "text": [
            "=========================================================================================\n",
            "| End of training | test loss  5.40 | test ppl   222.34\n",
            "=========================================================================================\n"
          ],
          "name": "stdout"
        }
      ]
    }
  ]
}
