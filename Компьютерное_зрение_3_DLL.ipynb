{
  "nbformat": 4,
  "nbformat_minor": 0,
  "metadata": {
    "accelerator": "GPU",
    "colab": {
      "name": "Компьютерное зрение 3 DLL",
      "provenance": [],
      "collapsed_sections": [
        "jzuY-HWVZEVk",
        "VCfAmvJPw45A"
      ]
    },
    "kernelspec": {
      "name": "python3",
      "display_name": "Python 3"
    },
    "language_info": {
      "codemirror_mode": {
        "name": "ipython",
        "version": 3
      },
      "file_extension": ".py",
      "mimetype": "text/x-python",
      "name": "python",
      "nbconvert_exporter": "python",
      "pygments_lexer": "ipython3",
      "version": "3.7.3"
    }
  },
  "cells": [
    {
      "cell_type": "code",
      "metadata": {
        "ExecuteTime": {
          "end_time": "2019-11-14T21:34:19.658915Z",
          "start_time": "2019-11-14T21:34:19.656278Z"
        },
        "id": "HjmIRXdQwwUo"
      },
      "source": [
        "import torch\n",
        "from torch import nn\n",
        "import torch.nn.functional as F\n",
        "from torchvision import datasets, transforms\n",
        "import time\n",
        "import matplotlib.pyplot as plt\n",
        "import random\n",
        "%matplotlib inline"
      ],
      "execution_count": 1,
      "outputs": []
    },
    {
      "cell_type": "markdown",
      "metadata": {
        "id": "jzuY-HWVZEVk"
      },
      "source": [
        "## Download data"
      ]
    },
    {
      "cell_type": "code",
      "metadata": {
        "ExecuteTime": {
          "end_time": "2019-11-15T17:10:45.585523Z",
          "start_time": "2019-11-15T17:10:45.509590Z"
        },
        "id": "UcX_rUpBwwVg"
      },
      "source": [
        "BATCH_SIZE=400\n",
        "transform1 = transforms.Compose([transforms.ToTensor()])\n",
        "transform = transforms.Compose([transforms.RandomPerspective(distortion_scale=0.5, p=0.5, interpolation=3),transforms.ToTensor()])\n",
        "train_dataset = datasets.MNIST('.', train=True, transform=transform, download=True)\n",
        "test_dataset = datasets.MNIST('.', train=False, transform=transform1, download=True)\n",
        "train_iter = torch.utils.data.DataLoader(train_dataset, batch_size=BATCH_SIZE)\n",
        "test_iter = torch.utils.data.DataLoader(test_dataset, batch_size=BATCH_SIZE)"
      ],
      "execution_count": 5,
      "outputs": []
    },
    {
      "cell_type": "code",
      "metadata": {
        "id": "Z_PESjrfzI95",
        "colab": {
          "base_uri": "https://localhost:8080/",
          "height": 282
        },
        "outputId": "9898d4c9-9883-452a-9d8a-62f96d054bbe"
      },
      "source": [
        "idx = random.randint(0,60000)\n",
        "plt.imshow(train_dataset[idx][0].numpy().reshape(28,28), cmap='gray')\n",
        "train_dataset[idx][1]"
      ],
      "execution_count": 7,
      "outputs": [
        {
          "output_type": "execute_result",
          "data": {
            "text/plain": [
              "7"
            ]
          },
          "metadata": {
            "tags": []
          },
          "execution_count": 7
        },
        {
          "output_type": "display_data",
          "data": {
            "image/png": "[encoded data removed]",
            "text/plain": [
              "<Figure size 432x288 with 1 Axes>"
            ]
          },
          "metadata": {
            "tags": [],
            "needs_background": "light"
          }
        }
      ]
    },
    {
      "cell_type": "markdown",
      "metadata": {
        "id": "VCfAmvJPw45A"
      },
      "source": [
        "## Formation and training LeNet "
      ]
    },
    {
      "cell_type": "code",
      "metadata": {
        "ExecuteTime": {
          "end_time": "2019-11-14T21:43:43.967577Z",
          "start_time": "2019-11-14T21:43:43.963101Z"
        },
        "id": "AXokXQUzw6Lr"
      },
      "source": [
        "dev = torch.device(\"cuda\") if torch.cuda.is_available() else torch.device(\"cpu\")"
      ],
      "execution_count": 8,
      "outputs": []
    },
    {
      "cell_type": "code",
      "metadata": {
        "ExecuteTime": {
          "end_time": "2019-11-14T21:43:44.003390Z",
          "start_time": "2019-11-14T21:43:43.991202Z"
        },
        "id": "1kAS0WRUxQU9"
      },
      "source": [
        "def train(net, train_iter, test_iter, trainer, num_epochs, dev):\n",
        "    loss = nn.CrossEntropyLoss(reduction='sum')\n",
        "    for epoch in range(num_epochs):\n",
        "        train_l_sum, train_acc_sum, n, start = 0.0, 0.0, 0, time.time()\n",
        "        for X, y in train_iter:\n",
        "            trainer.zero_grad()\n",
        "            X, y = X.to(dev), y.to(dev)\n",
        "            y_hat = net(X)\n",
        "            l = loss(y_hat, y)\n",
        "            l.backward()\n",
        "            trainer.step()\n",
        "            train_l_sum += l.item()\n",
        "            train_acc_sum += (y_hat.argmax(axis=1) == y).sum().item()\n",
        "            n += y.shape[0]\n",
        "        test_acc = evaluate_accuracy(test_iter, net, dev)\n",
        "        print('epoch %d, loss %.4f, train acc %.3f, test acc %.3f, '\n",
        "              'time %.1f sec'\n",
        "               % (epoch + 1, train_l_sum / n, train_acc_sum / n, test_acc,\n",
        "                 time.time() - start))\n"
      ],
      "execution_count": 9,
      "outputs": []
    },
    {
      "cell_type": "code",
      "metadata": {
        "ExecuteTime": {
          "end_time": "2019-11-14T21:43:44.014332Z",
          "start_time": "2019-11-14T21:43:44.006081Z"
        },
        "id": "luDfZTfjxX3j"
      },
      "source": [
        "def evaluate_accuracy(data_iter, net, dev):\n",
        "    acc_sum, n = torch.Tensor([0]).to(dev), 0\n",
        "    for X, y in data_iter:\n",
        "        X, y = X.to(dev), y.to(dev)\n",
        "        acc_sum += (net(X).argmax(axis=1) == y).sum()\n",
        "        n += y.shape[0]\n",
        "    return acc_sum.item() / n"
      ],
      "execution_count": 10,
      "outputs": []
    },
    {
      "cell_type": "code",
      "metadata": {
        "id": "mZaMvnzW0VwX"
      },
      "source": [
        "class LeNet(nn.Module):\n",
        "\tdef __init__(self):\n",
        "\t\tsuper(LeNet, self).__init__()\n",
        "\t\tself.conv1 = nn.Conv2d(1, 6, (5,5), padding=2)\n",
        "\t\tself.conv2 = nn.Conv2d(6, 16, (5,5))\n",
        "\t\tself.fc1   = nn.Linear(16*5*5, 120)\n",
        "\t\tself.fc2   = nn.Linear(120, 84)\n",
        "\t\tself.fc3   = nn.Linear(84, 10)\n",
        "\tdef forward(self, x):\n",
        "\t\tx = F.max_pool2d(F.relu(self.conv1(x)), (2,2))\n",
        "\t\tx = F.max_pool2d(F.relu(self.conv2(x)), (2,2))\n",
        "\t\tx = x.view(-1, self.num_flat_features(x))\n",
        "\t\tx = F.relu(self.fc1(x))\n",
        "\t\tx = F.relu(self.fc2(x))\n",
        "\t\tx = self.fc3(x)\n",
        "\t\treturn x\n",
        "\tdef num_flat_features(self, x):\n",
        "\t\tsize = x.size()[1:]\n",
        "\t\tnum_features = 1\n",
        "\t\tfor s in size:\n",
        "\t\t\tnum_features *= s\n",
        "\t\treturn num_features"
      ],
      "execution_count": 11,
      "outputs": []
    },
    {
      "cell_type": "code",
      "metadata": {
        "id": "yoMXLqCuoRb_",
        "colab": {
          "base_uri": "https://localhost:8080/"
        },
        "outputId": "654edb57-8c3b-4ccc-aa45-bb055ed2dc28"
      },
      "source": [
        "model = LeNet()\n",
        "model.to(dev)"
      ],
      "execution_count": 12,
      "outputs": [
        {
          "output_type": "execute_result",
          "data": {
            "text/plain": [
              "LeNet(\n",
              "  (conv1): Conv2d(1, 6, kernel_size=(5, 5), stride=(1, 1), padding=(2, 2))\n",
              "  (conv2): Conv2d(6, 16, kernel_size=(5, 5), stride=(1, 1))\n",
              "  (fc1): Linear(in_features=400, out_features=120, bias=True)\n",
              "  (fc2): Linear(in_features=120, out_features=84, bias=True)\n",
              "  (fc3): Linear(in_features=84, out_features=10, bias=True)\n",
              ")"
            ]
          },
          "metadata": {
            "tags": []
          },
          "execution_count": 12
        }
      ]
    },
    {
      "cell_type": "code",
      "metadata": {
        "ExecuteTime": {
          "end_time": "2019-11-14T21:44:50.015770Z",
          "start_time": "2019-11-14T21:43:44.017767Z"
        },
        "id": "gRP8hgY1xedj",
        "colab": {
          "base_uri": "https://localhost:8080/"
        },
        "outputId": "2d845bef-43a7-4e4e-fc57-99ab095ae280"
      },
      "source": [
        "lr, num_epochs = 0.001, 10\n",
        "trainer = torch.optim.RMSprop(model.parameters(), lr=lr)\n",
        "train(model, train_iter, test_iter, trainer, num_epochs, dev)"
      ],
      "execution_count": 13,
      "outputs": [
        {
          "output_type": "stream",
          "text": [
            "epoch 1, loss 0.7552, train acc 0.757, test acc 0.949, time 18.0 sec\n",
            "epoch 2, loss 0.3057, train acc 0.906, test acc 0.961, time 17.2 sec\n",
            "epoch 3, loss 0.2235, train acc 0.931, test acc 0.972, time 17.4 sec\n",
            "epoch 4, loss 0.1862, train acc 0.942, test acc 0.979, time 17.7 sec\n",
            "epoch 5, loss 0.1572, train acc 0.952, test acc 0.980, time 18.9 sec\n",
            "epoch 6, loss 0.1378, train acc 0.957, test acc 0.984, time 18.1 sec\n",
            "epoch 7, loss 0.1215, train acc 0.963, test acc 0.986, time 17.5 sec\n",
            "epoch 8, loss 0.1055, train acc 0.967, test acc 0.988, time 17.2 sec\n",
            "epoch 9, loss 0.1026, train acc 0.968, test acc 0.988, time 18.1 sec\n",
            "epoch 10, loss 0.0902, train acc 0.972, test acc 0.989, time 18.1 sec\n"
          ],
          "name": "stdout"
        }
      ]
    },
    {
      "cell_type": "markdown",
      "metadata": {
        "id": "XuT3LGuGm_9W"
      },
      "source": [
        "## Attack"
      ]
    },
    {
      "cell_type": "code",
      "metadata": {
        "id": "jDsgaPcdhvkd"
      },
      "source": [
        "model = model.cpu()"
      ],
      "execution_count": 14,
      "outputs": []
    },
    {
      "cell_type": "code",
      "metadata": {
        "id": "CpML8dGOm_G8"
      },
      "source": [
        "def attack(model = model, data = train_dataset, idx = 0, mode = 1, lr = lr):\n",
        "\n",
        "  x = train_dataset[idx][0].clone()\n",
        "  x.requires_grad_(True)\n",
        "  with torch.no_grad():\n",
        "    # значение выходов модели после прямого распространения\n",
        "    logits = model(x.unsqueeze(0)).squeeze()\n",
        "    # предсказание модели на неискаженном изображении\n",
        "    IMX = torch.argmax(logits)\n",
        "  #print(\"Init idx:\",IMX.item())\n",
        "\n",
        "  while True:\n",
        "    logits = model(x.unsqueeze(0)).squeeze()\n",
        "    \n",
        "    imx = torch.argmax(logits)\n",
        "    if imx!=IMX: \n",
        "        return x.detach().numpy(), imx.item()\n",
        "    # клонирование выходов модели и установка целевого (неправильного) значения для правильного индекса\n",
        "    y = logits.clone()\n",
        "    y[imx] = -99\n",
        "    loss = logits.max() - y.max() \n",
        "    loss.backward()\n",
        "    \n",
        "    # вычитаем из изображения lr * градиент, полученный при loss.backward()\n",
        "    x.data.sub_(lr*x.grad.data)\n",
        "    #print(loss.item(),logits.max().item(), y.max().item() )\n",
        "    \n",
        "    x.grad.data.zero_()\n",
        "    if mode == 2:\n",
        "      x.data.sub_(x.data.min())\n",
        "    if mode == 3:\n",
        "      x.data.sub_(x.data.min())\n",
        "      x.data.mul_(1/x.data.max())"
      ],
      "execution_count": 15,
      "outputs": []
    },
    {
      "cell_type": "code",
      "metadata": {
        "id": "mB7OSlz98l_5",
        "colab": {
          "base_uri": "https://localhost:8080/",
          "height": 258
        },
        "outputId": "d4009d45-3f70-4df2-a710-eb4d05b0d573"
      },
      "source": [
        "# оригинальное значение и искаженные с предсказаниями для трех режимов\n",
        "# режим 1 - вычитание из исходного изображения градиента * lr\n",
        "# режим 2 - режим 1 и дополнительно вычитание минимального элемента из исходного изображения\n",
        "# режим 3 - к режиму 2 добавляется деление на значение максимальной насыщенности изображения\n",
        "idx = random.randint(0,60000)\n",
        "image1,pred1 = attack(model = model, data = train_dataset, idx = idx, mode = 1, lr = lr)\n",
        "image2,pred2 = attack(model = model, data = train_dataset, idx = idx, mode = 2, lr = lr)\n",
        "image3,pred3 = attack(model = model, data = train_dataset, idx = idx, mode = 3, lr = lr)\n",
        "fig, ax = plt.subplots(1,4, sharey=True, figsize=(16,4))\n",
        "ax[0].set_title('original - ' + str(train_dataset[idx][1] ))\n",
        "ax[0].imshow(train_dataset[idx][0].squeeze().numpy(), cmap='gray');\n",
        "ax[1].set_title(str(pred1))\n",
        "ax[1].imshow(image1.reshape(28,28), cmap='gray');\n",
        "ax[2].set_title(str(pred2))\n",
        "ax[2].imshow(image2.reshape(28,28), cmap='gray');\n",
        "ax[3].set_title(str(pred3))\n",
        "ax[3].imshow(image3.reshape(28,28), cmap='gray');"
      ],
      "execution_count": 16,
      "outputs": [
        {
          "output_type": "display_data",
          "data": {
            "image/png": "[encoded data removed]",
            "text/plain": [
              "<Figure size 1152x288 with 4 Axes>"
            ]
          },
          "metadata": {
            "tags": [],
            "needs_background": "light"
          }
        }
      ]
    }
  ]
}