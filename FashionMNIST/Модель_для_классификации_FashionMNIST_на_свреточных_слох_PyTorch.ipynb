{
  "nbformat": 4,
  "nbformat_minor": 0,
  "metadata": {
    "kernelspec": {
      "display_name": "Python 3",
      "language": "python",
      "name": "python3"
    },
    "language_info": {
      "codemirror_mode": {
        "name": "ipython",
        "version": 3
      },
      "file_extension": ".py",
      "mimetype": "text/x-python",
      "name": "python",
      "nbconvert_exporter": "python",
      "pygments_lexer": "ipython3",
      "version": "3.7.1"
    },
    "colab": {
      "name": "Модель для классификации FashionMNIST на свреточных слох PyTorch",
      "provenance": [],
      "collapsed_sections": []
    },
    "accelerator": "GPU"
  },
  "cells": [
    {
      "cell_type": "markdown",
      "metadata": {
        "ExecuteTime": {
          "end_time": "2019-11-06T12:40:23.439886Z",
          "start_time": "2019-11-06T12:40:23.437308Z"
        },
        "id": "id77daKuzhxw"
      },
      "source": [
        "# Модель для классификации FashionMNIST. \n"
      ]
    },
    {
      "cell_type": "code",
      "metadata": {
        "ExecuteTime": {
          "end_time": "2019-11-06T12:28:34.900077Z",
          "start_time": "2019-11-06T12:28:34.399089Z"
        },
        "id": "0XT7mcTNzhwZ"
      },
      "source": [
        "import matplotlib.pyplot as plt\n",
        "import time\n",
        "import torch\n",
        "import numpy as np\n",
        "import torchvision as tv\n",
        "\n",
        "%matplotlib inline"
      ],
      "execution_count": 2,
      "outputs": []
    },
    {
      "cell_type": "markdown",
      "metadata": {
        "id": "8ETyIoQ451pz"
      },
      "source": [
        "## Загрузил данные"
      ]
    },
    {
      "cell_type": "code",
      "metadata": {
        "id": "7DUhWlgT1fmS"
      },
      "source": [
        "BATCH_SIZE=256"
      ],
      "execution_count": 3,
      "outputs": []
    },
    {
      "cell_type": "code",
      "metadata": {
        "id": "HZTNWqe5ttJW"
      },
      "source": [
        "train_dataset = tv.datasets.FashionMNIST('.', train=True, transform=tv.transforms.ToTensor(), download=True)\n",
        "test_dataset = tv.datasets.FashionMNIST('.', train=False, transform=tv.transforms.ToTensor(), download=True)\n",
        "train = torch.utils.data.DataLoader(train_dataset, batch_size=BATCH_SIZE)\n",
        "test = torch.utils.data.DataLoader(test_dataset, batch_size=BATCH_SIZE)"
      ],
      "execution_count": 4,
      "outputs": []
    },
    {
      "cell_type": "markdown",
      "metadata": {
        "id": "A-zHyLxhaNBv"
      },
      "source": [
        "## Просмотр данных"
      ]
    },
    {
      "cell_type": "code",
      "metadata": {
        "id": "cyUR5ieBaV6d",
        "outputId": "899c269b-d69a-4072-9189-7cc8fd6cc7b9",
        "colab": {
          "base_uri": "https://localhost:8080/",
          "height": 265
        }
      },
      "source": [
        "plt.imshow(train_dataset[0][0].numpy().reshape(28,28), cmap='gray');"
      ],
      "execution_count": 5,
      "outputs": [
        {
          "output_type": "display_data",
          "data": {
            "image/png": "[encoded data removed]",
            "text/plain": [
              "<Figure size 432x288 with 1 Axes>"
            ]
          },
          "metadata": {
            "tags": [],
            "needs_background": "light"
          }
        }
      ]
    },
    {
      "cell_type": "code",
      "metadata": {
        "id": "aQdq-nSE1maL",
        "outputId": "3f561138-2e78-4681-862d-a0f46ed7d03f",
        "colab": {
          "base_uri": "https://localhost:8080/",
          "height": 68
        }
      },
      "source": [
        "dataiter = iter(train)\n",
        "images, labels = dataiter.next()\n",
        "print(type(images))\n",
        "print(images.shape)\n",
        "print(labels.shape)"
      ],
      "execution_count": 6,
      "outputs": [
        {
          "output_type": "stream",
          "text": [
            "<class 'torch.Tensor'>\n",
            "torch.Size([256, 1, 28, 28])\n",
            "torch.Size([256])\n"
          ],
          "name": "stdout"
        }
      ]
    },
    {
      "cell_type": "markdown",
      "metadata": {
        "id": "3UZjnDPmkNyp"
      },
      "source": [
        "## Модель"
      ]
    },
    {
      "cell_type": "code",
      "metadata": {
        "id": "epa9XODfkQRx",
        "outputId": "9cd61e14-8187-41f5-bdeb-80dfd7263c80",
        "colab": {
          "base_uri": "https://localhost:8080/",
          "height": 221
        }
      },
      "source": [
        "model = torch.nn.Sequential(\n",
        "    torch.nn.Conv2d(1, 6, kernel_size=5, padding=2),\n",
        "    torch.nn.ReLU(),\n",
        "    torch.nn.MaxPool2d(2, stride=2),\n",
        "    torch.nn.Conv2d(6, 12, kernel_size=5),\n",
        "    torch.nn.ReLU(),\n",
        "    torch.nn.MaxPool2d(2, stride=2),\n",
        "    torch.nn.Flatten(),\n",
        "    torch.nn.Linear(300, 50),\n",
        "    torch.nn.ReLU(),\n",
        "    torch.nn.Linear(50, 10)\n",
        ")\n",
        "print(model)"
      ],
      "execution_count": 34,
      "outputs": [
        {
          "output_type": "stream",
          "text": [
            "Sequential(\n",
            "  (0): Conv2d(1, 6, kernel_size=(5, 5), stride=(1, 1), padding=(2, 2))\n",
            "  (1): ReLU()\n",
            "  (2): MaxPool2d(kernel_size=2, stride=2, padding=0, dilation=1, ceil_mode=False)\n",
            "  (3): Conv2d(6, 12, kernel_size=(5, 5), stride=(1, 1))\n",
            "  (4): ReLU()\n",
            "  (5): MaxPool2d(kernel_size=2, stride=2, padding=0, dilation=1, ceil_mode=False)\n",
            "  (6): Flatten()\n",
            "  (7): Linear(in_features=300, out_features=50, bias=True)\n",
            "  (8): ReLU()\n",
            "  (9): Linear(in_features=50, out_features=10, bias=True)\n",
            ")\n"
          ],
          "name": "stdout"
        }
      ]
    },
    {
      "cell_type": "code",
      "metadata": {
        "id": "11KmQJYi2uaK"
      },
      "source": [
        "loss = torch.nn.CrossEntropyLoss()\n",
        "trainer = torch.optim.Adam(model.parameters(), lr=0.007)\n",
        "num_epochs = 15"
      ],
      "execution_count": 35,
      "outputs": []
    },
    {
      "cell_type": "markdown",
      "metadata": {
        "id": "1qLy61v36JqA"
      },
      "source": [
        "# Обучаем модель"
      ]
    },
    {
      "cell_type": "code",
      "metadata": {
        "id": "zP0dQ8u2xr3H",
        "outputId": "585c9eb1-aedb-4e2e-b346-39ae142c060f",
        "colab": {
          "base_uri": "https://localhost:8080/",
          "height": 272
        }
      },
      "source": [
        "for ep in range(num_epochs):\n",
        "    train_iters, train_passed  = 0, 0\n",
        "    train_loss, train_acc = 0., 0.\n",
        "    \n",
        "    for X, y in train:\n",
        "        trainer.zero_grad()\n",
        "        y_pred = model(X)\n",
        "        l = loss(y_pred, y)\n",
        "        l.backward()\n",
        "        trainer.step()\n",
        "        train_loss += l.item()\n",
        "        train_acc += (y_pred.argmax(dim=1) == y).sum().item()\n",
        "        train_iters += 1\n",
        "        train_passed += len(X)\n",
        "    \n",
        "    test_iters, test_passed  = 0, 0\n",
        "    test_loss, test_acc = 0., 0.\n",
        "    for X, y in test:\n",
        "        y_pred = model(X)\n",
        "        l = loss(y_pred, y)\n",
        "        test_loss += l.item()\n",
        "        test_acc += (y_pred.argmax(dim=1) == y).sum().item()\n",
        "        test_iters += 1\n",
        "        test_passed += len(X)\n",
        "        \n",
        "    print(\"ep: {}, train_loss: {}, train_acc: {}, test_loss: {}, test_acc: {}\".format(\n",
        "        ep, train_loss / train_iters, train_acc / train_passed,\n",
        "        test_loss / test_iters, test_acc / test_passed)\n",
        "    )"
      ],
      "execution_count": 36,
      "outputs": [
        {
          "output_type": "stream",
          "text": [
            "ep: 0, train_loss: 0.6236987950954032, train_acc: 0.7694666666666666, test_loss: 0.44356713593006136, test_acc: 0.8447\n",
            "ep: 1, train_loss: 0.3716092882638282, train_acc: 0.8648666666666667, test_loss: 0.3723005592823029, test_acc: 0.8644\n",
            "ep: 2, train_loss: 0.32339991553032654, train_acc: 0.88125, test_loss: 0.36950135342776774, test_acc: 0.8673\n",
            "ep: 3, train_loss: 0.2967651171253083, train_acc: 0.8912666666666667, test_loss: 0.36259737573564055, test_acc: 0.8727\n",
            "ep: 4, train_loss: 0.2785381849775923, train_acc: 0.8972333333333333, test_loss: 0.3482178010046482, test_acc: 0.8783\n",
            "ep: 5, train_loss: 0.2704242723419311, train_acc: 0.8996833333333333, test_loss: 0.32989147342741487, test_acc: 0.8853\n",
            "ep: 6, train_loss: 0.2578368675201497, train_acc: 0.9042, test_loss: 0.3283436313271523, test_acc: 0.8886\n",
            "ep: 7, train_loss: 0.2503941528974695, train_acc: 0.9069166666666667, test_loss: 0.3361741740256548, test_acc: 0.8868\n",
            "ep: 8, train_loss: 0.23969502810468066, train_acc: 0.9115666666666666, test_loss: 0.30955172032117845, test_acc: 0.8948\n",
            "ep: 9, train_loss: 0.23314878433308703, train_acc: 0.9133666666666667, test_loss: 0.3155566807836294, test_acc: 0.8963\n",
            "ep: 10, train_loss: 0.22958931954617195, train_acc: 0.91465, test_loss: 0.32105817273259163, test_acc: 0.8939\n",
            "ep: 11, train_loss: 0.22666867032964177, train_acc: 0.9149833333333334, test_loss: 0.3164426241070032, test_acc: 0.895\n",
            "ep: 12, train_loss: 0.22220187786411733, train_acc: 0.9169166666666667, test_loss: 0.3102792017161846, test_acc: 0.8965\n",
            "ep: 13, train_loss: 0.21903543523017396, train_acc: 0.918, test_loss: 0.3190005473792553, test_acc: 0.8954\n",
            "ep: 14, train_loss: 0.21604669832802834, train_acc: 0.92035, test_loss: 0.3090909242630005, test_acc: 0.8969\n"
          ],
          "name": "stdout"
        }
      ]
    }
  ]
}