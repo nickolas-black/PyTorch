{
  "nbformat": 4,
  "nbformat_minor": 0,
  "metadata": {
    "kernelspec": {
      "display_name": "Python 3",
      "language": "python",
      "name": "python3"
    },
    "language_info": {
      "codemirror_mode": {
        "name": "ipython",
        "version": 3
      },
      "file_extension": ".py",
      "mimetype": "text/x-python",
      "name": "python",
      "nbconvert_exporter": "python",
      "pygments_lexer": "ipython3",
      "version": "3.7.1"
    },
    "colab": {
      "name": "Модель для классификации FashionMNIST на PyTorch.ipynb\"",
      "provenance": [],
      "collapsed_sections": []
    },
    "accelerator": "GPU"
  },
  "cells": [
    {
      "cell_type": "markdown",
      "metadata": {
        "ExecuteTime": {
          "end_time": "2019-11-06T12:40:23.439886Z",
          "start_time": "2019-11-06T12:40:23.437308Z"
        },
        "id": "id77daKuzhxw"
      },
      "source": [
        "# Модель для классификации FashionMNIST. \n"
      ]
    },
    {
      "cell_type": "code",
      "metadata": {
        "ExecuteTime": {
          "end_time": "2019-11-06T12:28:34.900077Z",
          "start_time": "2019-11-06T12:28:34.399089Z"
        },
        "id": "0XT7mcTNzhwZ"
      },
      "source": [
        "import matplotlib.pyplot as plt\n",
        "import time\n",
        "import torch\n",
        "import numpy as np\n",
        "import torchvision as tv\n",
        "\n",
        "%matplotlib inline"
      ],
      "execution_count": 1,
      "outputs": []
    },
    {
      "cell_type": "markdown",
      "metadata": {
        "id": "8ETyIoQ451pz"
      },
      "source": [
        "## Загрузил данные"
      ]
    },
    {
      "cell_type": "code",
      "metadata": {
        "id": "7DUhWlgT1fmS"
      },
      "source": [
        "BATCH_SIZE=256"
      ],
      "execution_count": 2,
      "outputs": []
    },
    {
      "cell_type": "code",
      "metadata": {
        "id": "HZTNWqe5ttJW"
      },
      "source": [
        "train_dataset = tv.datasets.FashionMNIST('.', train=True, transform=tv.transforms.ToTensor(), download=True)\n",
        "test_dataset = tv.datasets.FashionMNIST('.', train=False, transform=tv.transforms.ToTensor(), download=True)\n",
        "train = torch.utils.data.DataLoader(train_dataset, batch_size=BATCH_SIZE)\n",
        "test = torch.utils.data.DataLoader(test_dataset, batch_size=BATCH_SIZE)"
      ],
      "execution_count": 3,
      "outputs": []
    },
    {
      "cell_type": "markdown",
      "metadata": {
        "id": "A-zHyLxhaNBv"
      },
      "source": [
        "## Просмотр данных"
      ]
    },
    {
      "cell_type": "code",
      "metadata": {
        "id": "cyUR5ieBaV6d",
        "outputId": "e7505b56-65c6-4fd4-c2fc-2dbd8f7beb08",
        "colab": {
          "base_uri": "https://localhost:8080/",
          "height": 265
        }
      },
      "source": [
        "plt.imshow(train_dataset[0][0].numpy().reshape(28,28), cmap='gray');"
      ],
      "execution_count": 4,
      "outputs": [
        {
          "output_type": "display_data",
          "data": {
            "image/png": "[encoded data removed]",
            "text/plain": [
              "<Figure size 432x288 with 1 Axes>"
            ]
          },
          "metadata": {
            "tags": [],
            "needs_background": "light"
          }
        }
      ]
    },
    {
      "cell_type": "code",
      "metadata": {
        "id": "aQdq-nSE1maL",
        "outputId": "352b5dfb-0a35-442c-d7c5-3574bc8d7105",
        "colab": {
          "base_uri": "https://localhost:8080/",
          "height": 68
        }
      },
      "source": [
        "dataiter = iter(train)\n",
        "images, labels = dataiter.next()\n",
        "print(type(images))\n",
        "print(images.shape)\n",
        "print(labels.shape)"
      ],
      "execution_count": 5,
      "outputs": [
        {
          "output_type": "stream",
          "text": [
            "<class 'torch.Tensor'>\n",
            "torch.Size([256, 1, 28, 28])\n",
            "torch.Size([256])\n"
          ],
          "name": "stdout"
        }
      ]
    },
    {
      "cell_type": "markdown",
      "metadata": {
        "id": "3UZjnDPmkNyp"
      },
      "source": [
        "## Модель"
      ]
    },
    {
      "cell_type": "code",
      "metadata": {
        "id": "epa9XODfkQRx",
        "outputId": "7c369e79-11d7-4447-b062-c6326f923360",
        "colab": {
          "base_uri": "https://localhost:8080/",
          "height": 272
        }
      },
      "source": [
        "model = torch.nn.Sequential(\n",
        "    torch.nn.Flatten(),\n",
        "    torch.nn.Linear(784, 256),\n",
        "    torch.nn.ReLU(),\n",
        "    torch.nn.Linear(256, 512),\n",
        "    torch.nn.ReLU(),\n",
        "    torch.nn.Linear(512, 256),\n",
        "    torch.nn.ReLU(),\n",
        "    torch.nn.Dropout(0.3),\n",
        "    torch.nn.Linear(256, 64),\n",
        "    torch.nn.ReLU(),\n",
        "    torch.nn.Dropout(0.25),\n",
        "    torch.nn.Linear(64, 10),\n",
        "    torch.nn.LogSoftmax(dim = 1)\n",
        ")\n",
        "print(model)"
      ],
      "execution_count": 18,
      "outputs": [
        {
          "output_type": "stream",
          "text": [
            "Sequential(\n",
            "  (0): Flatten()\n",
            "  (1): Linear(in_features=784, out_features=256, bias=True)\n",
            "  (2): ReLU()\n",
            "  (3): Linear(in_features=256, out_features=512, bias=True)\n",
            "  (4): ReLU()\n",
            "  (5): Linear(in_features=512, out_features=256, bias=True)\n",
            "  (6): ReLU()\n",
            "  (7): Dropout(p=0.3, inplace=False)\n",
            "  (8): Linear(in_features=256, out_features=64, bias=True)\n",
            "  (9): ReLU()\n",
            "  (10): Dropout(p=0.25, inplace=False)\n",
            "  (11): Linear(in_features=64, out_features=10, bias=True)\n",
            "  (12): LogSoftmax(dim=1)\n",
            ")\n"
          ],
          "name": "stdout"
        }
      ]
    },
    {
      "cell_type": "code",
      "metadata": {
        "id": "11KmQJYi2uaK"
      },
      "source": [
        "loss = torch.nn.CrossEntropyLoss()\n",
        "trainer = torch.optim.Adam(model.parameters(), lr=0.002)\n",
        "num_epochs = 15"
      ],
      "execution_count": 19,
      "outputs": []
    },
    {
      "cell_type": "markdown",
      "metadata": {
        "id": "1qLy61v36JqA"
      },
      "source": [
        "# Обучаем модель"
      ]
    },
    {
      "cell_type": "code",
      "metadata": {
        "id": "zP0dQ8u2xr3H",
        "outputId": "d9519ffc-a416-47e5-bc3f-8f5aeda5563a",
        "colab": {
          "base_uri": "https://localhost:8080/",
          "height": 272
        }
      },
      "source": [
        "for ep in range(num_epochs):\n",
        "    train_iters, train_passed  = 0, 0\n",
        "    train_loss, train_acc = 0., 0.\n",
        "    \n",
        "    for X, y in train:\n",
        "        trainer.zero_grad()\n",
        "        y_pred = model(X)\n",
        "        l = loss(y_pred, y)\n",
        "        l.backward()\n",
        "        trainer.step()\n",
        "        train_loss += l.item()\n",
        "        train_acc += (y_pred.argmax(dim=1) == y).sum().item()\n",
        "        train_iters += 1\n",
        "        train_passed += len(X)\n",
        "    \n",
        "    test_iters, test_passed  = 0, 0\n",
        "    test_loss, test_acc = 0., 0.\n",
        "    for X, y in test:\n",
        "        y_pred = model(X)\n",
        "        l = loss(y_pred, y)\n",
        "        test_loss += l.item()\n",
        "        test_acc += (y_pred.argmax(dim=1) == y).sum().item()\n",
        "        test_iters += 1\n",
        "        test_passed += len(X)\n",
        "        \n",
        "    print(\"ep: {}, train_loss: {}, train_acc: {}, test_loss: {}, test_acc: {}\".format(\n",
        "        ep, train_loss / train_iters, train_acc / train_passed,\n",
        "        test_loss / test_iters, test_acc / test_passed)\n",
        "    )"
      ],
      "execution_count": 20,
      "outputs": [
        {
          "output_type": "stream",
          "text": [
            "ep: 0, train_loss: 0.6893066701736856, train_acc: 0.7430166666666667, test_loss: 0.48842221572995187, test_acc: 0.8255\n",
            "ep: 1, train_loss: 0.4235662918141548, train_acc: 0.8487333333333333, test_loss: 0.44562617093324663, test_acc: 0.8422\n",
            "ep: 2, train_loss: 0.37576209211603123, train_acc: 0.8649333333333333, test_loss: 0.40463418923318384, test_acc: 0.8565\n",
            "ep: 3, train_loss: 0.34222400721083296, train_acc: 0.8764, test_loss: 0.39803558867424726, test_acc: 0.8653\n",
            "ep: 4, train_loss: 0.3224586013149708, train_acc: 0.8829666666666667, test_loss: 0.39210438542068005, test_acc: 0.864\n",
            "ep: 5, train_loss: 0.30556894952946523, train_acc: 0.8889833333333333, test_loss: 0.390705780684948, test_acc: 0.869\n",
            "ep: 6, train_loss: 0.2921724588313001, train_acc: 0.8936833333333334, test_loss: 0.36618358977139, test_acc: 0.875\n",
            "ep: 7, train_loss: 0.2779481828212738, train_acc: 0.8980666666666667, test_loss: 0.3546031730249524, test_acc: 0.873\n",
            "ep: 8, train_loss: 0.2722366204287143, train_acc: 0.9008, test_loss: 0.35722028426826, test_acc: 0.878\n",
            "ep: 9, train_loss: 0.2612602049365957, train_acc: 0.9038166666666667, test_loss: 0.3603675562888384, test_acc: 0.8758\n",
            "ep: 10, train_loss: 0.2541549300259732, train_acc: 0.9060333333333334, test_loss: 0.35074549317359927, test_acc: 0.8823\n",
            "ep: 11, train_loss: 0.24774342274412195, train_acc: 0.9079, test_loss: 0.3694592520594597, test_acc: 0.8786\n",
            "ep: 12, train_loss: 0.23852566176272452, train_acc: 0.9113333333333333, test_loss: 0.3845121020451188, test_acc: 0.875\n",
            "ep: 13, train_loss: 0.231563940897901, train_acc: 0.9143666666666667, test_loss: 0.36850062385201454, test_acc: 0.8792\n",
            "ep: 14, train_loss: 0.2287876365666694, train_acc: 0.9155, test_loss: 0.3568509563803673, test_acc: 0.8827\n"
          ],
          "name": "stdout"
        }
      ]
    }
  ]
}