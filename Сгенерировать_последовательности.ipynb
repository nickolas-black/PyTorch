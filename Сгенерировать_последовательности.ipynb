{
  "nbformat": 4,
  "nbformat_minor": 0,
  "metadata": {
    "colab": {
      "name": "Сгенерировать последовательности",
      "provenance": []
    },
    "kernelspec": {
      "name": "python3",
      "display_name": "Python 3"
    }
  },
  "cells": [
    {
      "cell_type": "markdown",
      "metadata": {
        "id": "49vmIj0vRD2D"
      },
      "source": [
        "# Задание¶\r\n",
        "- Сгенерировать последовательности, которые бы состояли из цифр (от 0 до 9) и задавались следующим образом: \r\n",
        "  - x - последовательность цифр\r\n",
        "  - y1 = x1, y(i) = x(i) + x(1). Если y(i) >= 10, то y(i) = y(i) - 10\r\n",
        "- научить модель предсказывать y(i) по x(i)\r\n",
        "- попробовать RNN, LSTM, GRU"
      ]
    },
    {
      "cell_type": "code",
      "metadata": {
        "id": "3qZ5XWijQ9lg"
      },
      "source": [
        "import torch\r\n",
        "from torch import nn\r\n",
        "import numpy as np\r\n",
        "import re\r\n",
        "import random\r\n",
        "import tqdm\r\n",
        "import time"
      ],
      "execution_count": 1,
      "outputs": []
    },
    {
      "cell_type": "code",
      "metadata": {
        "id": "QAqbH0-gRYlD"
      },
      "source": [
        "device = torch.device(\"cuda\" if torch.cuda.is_available() else \"cpu\")"
      ],
      "execution_count": 2,
      "outputs": []
    },
    {
      "cell_type": "markdown",
      "metadata": {
        "id": "i04m4taeRdbr"
      },
      "source": [
        "Создание датасета по алгоритму: \r\n",
        "\r\n",
        "    y1 = x1, y(i) = x(i) + x(1). Если y(i) >= 10, то y(i) = y(i) - 10 "
      ]
    },
    {
      "cell_type": "code",
      "metadata": {
        "id": "MPD9D7sNRheH"
      },
      "source": [
        "def generate_xy(sequence_len=100, batch_size=1, torch_type = torch.long):\r\n",
        "    # torch_type = torch.long\r\n",
        "    assert batch_size >= 1, 'Wrong batch size'\r\n",
        "    if sequence_len is None:\r\n",
        "        sequence_len = np.random.randint(10, 100)\r\n",
        "        \r\n",
        "    X = torch.zeros((batch_size, sequence_len), dtype=torch_type, device=device)\r\n",
        "    y = torch.zeros((batch_size, sequence_len), dtype=torch_type, device=device)\r\n",
        "\r\n",
        "    for i in range(batch_size):\r\n",
        "        X_line = np.random.randint(0, 9, size=[sequence_len])\r\n",
        "        y_line = X_line + X_line[0]\r\n",
        "        y_line = np.vectorize(lambda x: x if x < 10 else x - 10)(y_line)\r\n",
        "        y_line[0] = X_line[0]\r\n",
        "        X[i] = torch.tensor(X_line, dtype=torch_type, device=device)\r\n",
        "        y[i] = torch.tensor(y_line, dtype=torch_type, device=device)\r\n",
        "    return X, y"
      ],
      "execution_count": 4,
      "outputs": []
    },
    {
      "cell_type": "code",
      "metadata": {
        "id": "lKt99C1dRptj"
      },
      "source": [
        "X, y = generate_xy(sequence_len=10, batch_size=10, torch_type=torch.long)"
      ],
      "execution_count": 5,
      "outputs": []
    },
    {
      "cell_type": "code",
      "metadata": {
        "colab": {
          "base_uri": "https://localhost:8080/"
        },
        "id": "8DkwtvuYR4MU",
        "outputId": "a0d6059d-0c06-453b-f06d-b7c0db8a05d3"
      },
      "source": [
        "X"
      ],
      "execution_count": 6,
      "outputs": [
        {
          "output_type": "execute_result",
          "data": {
            "text/plain": [
              "tensor([[8, 1, 7, 0, 1, 0, 3, 7, 4, 1],\n",
              "        [0, 4, 7, 3, 3, 4, 7, 4, 5, 6],\n",
              "        [1, 0, 5, 3, 8, 2, 1, 0, 1, 4],\n",
              "        [0, 4, 5, 2, 0, 2, 2, 4, 3, 3],\n",
              "        [0, 0, 2, 2, 6, 5, 5, 5, 7, 2],\n",
              "        [1, 8, 0, 4, 8, 3, 4, 3, 7, 0],\n",
              "        [6, 6, 3, 1, 7, 3, 5, 7, 7, 1],\n",
              "        [3, 5, 8, 6, 4, 2, 3, 5, 5, 5],\n",
              "        [0, 1, 8, 3, 7, 3, 6, 3, 8, 3],\n",
              "        [3, 0, 0, 2, 0, 8, 6, 2, 6, 3]])"
            ]
          },
          "metadata": {
            "tags": []
          },
          "execution_count": 6
        }
      ]
    },
    {
      "cell_type": "code",
      "metadata": {
        "colab": {
          "base_uri": "https://localhost:8080/"
        },
        "id": "naeiLuCZR6M8",
        "outputId": "c2cadcd2-d03f-4ef8-be7a-617389b1ad4c"
      },
      "source": [
        "y"
      ],
      "execution_count": 7,
      "outputs": [
        {
          "output_type": "execute_result",
          "data": {
            "text/plain": [
              "tensor([[8, 9, 5, 8, 9, 8, 1, 5, 2, 9],\n",
              "        [0, 4, 7, 3, 3, 4, 7, 4, 5, 6],\n",
              "        [1, 1, 6, 4, 9, 3, 2, 1, 2, 5],\n",
              "        [0, 4, 5, 2, 0, 2, 2, 4, 3, 3],\n",
              "        [0, 0, 2, 2, 6, 5, 5, 5, 7, 2],\n",
              "        [1, 9, 1, 5, 9, 4, 5, 4, 8, 1],\n",
              "        [6, 2, 9, 7, 3, 9, 1, 3, 3, 7],\n",
              "        [3, 8, 1, 9, 7, 5, 6, 8, 8, 8],\n",
              "        [0, 1, 8, 3, 7, 3, 6, 3, 8, 3],\n",
              "        [3, 3, 3, 5, 3, 1, 9, 5, 9, 6]])"
            ]
          },
          "metadata": {
            "tags": []
          },
          "execution_count": 7
        }
      ]
    },
    {
      "cell_type": "markdown",
      "metadata": {
        "id": "B560rjPOR_ay"
      },
      "source": [
        "Сеть"
      ]
    },
    {
      "cell_type": "code",
      "metadata": {
        "id": "RNwbgiqzSBdJ"
      },
      "source": [
        "class NeuralNetwork(nn.Module):\r\n",
        "    def _print(self, *text):\r\n",
        "        if self.debug:\r\n",
        "            print(*text)\r\n",
        "    \r\n",
        "    def __init__(self, rnnClass, input_size, embedding_size, num_hiddens, num_classes, debug=False):\r\n",
        "        super().__init__()\r\n",
        "        self.num_hiddens = num_hiddens\r\n",
        "        self.embedding = nn.Embedding(input_size, embedding_size)\r\n",
        "        self.hidden = rnnClass(embedding_size, num_hiddens, batch_first=True)\r\n",
        "        self.output = nn.Linear(num_hiddens, num_classes)\r\n",
        "        self.debug = debug\r\n",
        "        \r\n",
        "    def forward(self, X):\r\n",
        "        out = self.embedding(X)\r\n",
        "        if type(self.hidden) == nn.LSTM:\r\n",
        "            _, (state, _) = self.hidden(out)\r\n",
        "        else:\r\n",
        "            _, state = self.hidden(out)\r\n",
        "        self._print(f'model.forward| state : {state.shape}, state[0] : {state[0].shape}')\r\n",
        "        predictions = self.output(state[0])\r\n",
        "        self._print(f'model.forward| predictions : {predictions.shape}' )\r\n",
        "        return predictions"
      ],
      "execution_count": 8,
      "outputs": []
    },
    {
      "cell_type": "code",
      "metadata": {
        "id": "0WNr5viWSFIt"
      },
      "source": [
        "model = NeuralNetwork(rnnClass=nn.LSTM, input_size=10, embedding_size=64, \r\n",
        "                      num_hiddens=64, num_classes=10, debug=True\r\n",
        "                     )\r\n",
        "\r\n",
        "model = model.cuda() if torch.cuda.is_available() else model.cpu()"
      ],
      "execution_count": 9,
      "outputs": []
    },
    {
      "cell_type": "code",
      "metadata": {
        "colab": {
          "base_uri": "https://localhost:8080/"
        },
        "id": "SSDBtcaFSIus",
        "outputId": "7d75432a-a377-4284-f5f9-539c3b6f255e"
      },
      "source": [
        "torch.tensor([1,2,3,4,3,2,1]).argmax()"
      ],
      "execution_count": 10,
      "outputs": [
        {
          "output_type": "execute_result",
          "data": {
            "text/plain": [
              "tensor(3)"
            ]
          },
          "metadata": {
            "tags": []
          },
          "execution_count": 10
        }
      ]
    },
    {
      "cell_type": "code",
      "metadata": {
        "colab": {
          "base_uri": "https://localhost:8080/"
        },
        "id": "ZvrTI_4QSQ1b",
        "outputId": "e90a9b4d-9636-4065-c484-e52532945622"
      },
      "source": [
        "X, y = generate_xy(sequence_len=10, batch_size=1)\r\n",
        "print(X.shape, X)\r\n",
        "print(y.shape, y)\r\n",
        "answers = model.forward(X)\r\n",
        "print('answers : ', answers.shape, np.argmax(answers.detach().numpy()))"
      ],
      "execution_count": 11,
      "outputs": [
        {
          "output_type": "stream",
          "text": [
            "torch.Size([1, 10]) tensor([[2, 0, 6, 2, 7, 0, 2, 5, 6, 5]])\n",
            "torch.Size([1, 10]) tensor([[2, 2, 8, 4, 9, 2, 4, 7, 8, 7]])\n",
            "model.forward| state : torch.Size([1, 1, 64]), state[0] : torch.Size([1, 64])\n",
            "model.forward| predictions : torch.Size([1, 10])\n",
            "answers :  torch.Size([1, 10]) 9\n"
          ],
          "name": "stdout"
        }
      ]
    },
    {
      "cell_type": "code",
      "metadata": {
        "id": "fjJ3dcD_SXKc"
      },
      "source": [
        "def generate_sequence(model, sequence_len=10, debug=False):\r\n",
        "    X, y = generate_xy(sequence_len=sequence_len, batch_size=1)    \r\n",
        "    if debug:\r\n",
        "        print('X: ', X)\r\n",
        "        print('y: ', y)\r\n",
        "    \r\n",
        "    preds = torch.zeros( (1, sequence_len), dtype=int, device=device)\r\n",
        "    for i in range(sequence_len):\r\n",
        "        next_digit = model(X[:, :(i + 1)])\r\n",
        "        preds[0, i] = next_digit.argmax()\r\n",
        "        if debug:\r\n",
        "            print(f'======= i = {i}')\r\n",
        "            print('X[:, :(i + 1)] : ', X[:, :(i + 1)])\r\n",
        "            print('next_digit : ', next_digit, next_digit.argmax())\r\n",
        "            print('next_digit softmax: ', torch.softmax(next_digit, 1), torch.softmax(next_digit, 1).argmax())\r\n",
        "            print('pred : ', preds)\r\n",
        "\r\n",
        "    print(y, preds)"
      ],
      "execution_count": 12,
      "outputs": []
    },
    {
      "cell_type": "code",
      "metadata": {
        "colab": {
          "base_uri": "https://localhost:8080/"
        },
        "id": "k-RoSqUTSao8",
        "outputId": "deded56e-14f5-4668-f520-17140dd9a059"
      },
      "source": [
        "generate_sequence(model, debug=False)"
      ],
      "execution_count": 13,
      "outputs": [
        {
          "output_type": "stream",
          "text": [
            "model.forward| state : torch.Size([1, 1, 64]), state[0] : torch.Size([1, 64])\n",
            "model.forward| predictions : torch.Size([1, 10])\n",
            "model.forward| state : torch.Size([1, 1, 64]), state[0] : torch.Size([1, 64])\n",
            "model.forward| predictions : torch.Size([1, 10])\n",
            "model.forward| state : torch.Size([1, 1, 64]), state[0] : torch.Size([1, 64])\n",
            "model.forward| predictions : torch.Size([1, 10])\n",
            "model.forward| state : torch.Size([1, 1, 64]), state[0] : torch.Size([1, 64])\n",
            "model.forward| predictions : torch.Size([1, 10])\n",
            "model.forward| state : torch.Size([1, 1, 64]), state[0] : torch.Size([1, 64])\n",
            "model.forward| predictions : torch.Size([1, 10])\n",
            "model.forward| state : torch.Size([1, 1, 64]), state[0] : torch.Size([1, 64])\n",
            "model.forward| predictions : torch.Size([1, 10])\n",
            "model.forward| state : torch.Size([1, 1, 64]), state[0] : torch.Size([1, 64])\n",
            "model.forward| predictions : torch.Size([1, 10])\n",
            "model.forward| state : torch.Size([1, 1, 64]), state[0] : torch.Size([1, 64])\n",
            "model.forward| predictions : torch.Size([1, 10])\n",
            "model.forward| state : torch.Size([1, 1, 64]), state[0] : torch.Size([1, 64])\n",
            "model.forward| predictions : torch.Size([1, 10])\n",
            "model.forward| state : torch.Size([1, 1, 64]), state[0] : torch.Size([1, 64])\n",
            "model.forward| predictions : torch.Size([1, 10])\n",
            "tensor([[7, 9, 3, 4, 7, 0, 0, 0, 0, 1]]) tensor([[4, 4, 4, 4, 4, 4, 4, 4, 4, 4]])\n"
          ],
          "name": "stdout"
        }
      ]
    },
    {
      "cell_type": "markdown",
      "metadata": {
        "id": "LEI9R4NSSk5U"
      },
      "source": [
        "Тестовое обучение"
      ]
    },
    {
      "cell_type": "code",
      "metadata": {
        "colab": {
          "base_uri": "https://localhost:8080/"
        },
        "id": "Gd6dTF1TSefr",
        "outputId": "3808b6f2-0ebb-44b9-b512-8445cd464c6f"
      },
      "source": [
        "X, y = generate_xy(sequence_len=5, batch_size=1) \r\n",
        "print(X, y)\r\n",
        "for i in range( 5 ):\r\n",
        "    print(X[:, :(i+1)], y[:, i])"
      ],
      "execution_count": 14,
      "outputs": [
        {
          "output_type": "stream",
          "text": [
            "tensor([[2, 4, 5, 5, 6]]) tensor([[2, 6, 7, 7, 8]])\n",
            "tensor([[2]]) tensor([2])\n",
            "tensor([[2, 4]]) tensor([6])\n",
            "tensor([[2, 4, 5]]) tensor([7])\n",
            "tensor([[2, 4, 5, 5]]) tensor([7])\n",
            "tensor([[2, 4, 5, 5, 6]]) tensor([8])\n"
          ],
          "name": "stdout"
        }
      ]
    },
    {
      "cell_type": "code",
      "metadata": {
        "id": "_13xapprSrBL"
      },
      "source": [
        "def train(model, criterion, optimizer, epochs=300, sequence_len=100, batch_size=100):\r\n",
        "    for ep in range(epochs + 1):\r\n",
        "        start = time.time()\r\n",
        "        train_loss = 0.\r\n",
        "        train_passed = 0\r\n",
        "\r\n",
        "        model.train()\r\n",
        "        X, y = generate_xy(sequence_len=sequence_len, batch_size=batch_size)\r\n",
        "        for i in range( sequence_len ):\r\n",
        "            optimizer.zero_grad()\r\n",
        "            model.zero_grad()\r\n",
        "            answers = model.forward(X[:, :(i + 1)])\r\n",
        "            loss = criterion(answers, y[:, i])        \r\n",
        "            train_loss += loss.item()\r\n",
        "\r\n",
        "            loss.backward()\r\n",
        "            optimizer.step()\r\n",
        "            train_passed += 1\r\n",
        "\r\n",
        "        if ep % 50 == 0 and ep != 0:\r\n",
        "            print(\"Epoch {}. Time: {:.3f}, Train loss: {:.3f}\".format(ep, time.time() - start, train_loss / train_passed))\r\n",
        "            model.eval()\r\n",
        "            generate_sequence(model)"
      ],
      "execution_count": 15,
      "outputs": []
    },
    {
      "cell_type": "markdown",
      "metadata": {
        "id": "yEylPTvLSxVe"
      },
      "source": [
        "Обучение"
      ]
    },
    {
      "cell_type": "markdown",
      "metadata": {
        "id": "obFv_dVKS4M-"
      },
      "source": [
        "- RNN"
      ]
    },
    {
      "cell_type": "code",
      "metadata": {
        "colab": {
          "base_uri": "https://localhost:8080/"
        },
        "id": "lEVkvbEPSvIE",
        "outputId": "863c1bf2-314b-4cb2-c942-1bbee5db0d4c"
      },
      "source": [
        "model = NeuralNetwork(rnnClass=nn.RNN, input_size=10, embedding_size=64, \r\n",
        "                      num_hiddens=64, num_classes=10, debug=False)\r\n",
        "\r\n",
        "model = model.cuda() if torch.cuda.is_available() else model.cpu()\r\n",
        "criterion = torch.nn.CrossEntropyLoss()\r\n",
        "optimizer = torch.optim.Adam(model.parameters(), lr=0.001)\r\n",
        "\r\n",
        "train(model, criterion, optimizer, epochs=1000, sequence_len=10, batch_size=10)"
      ],
      "execution_count": 16,
      "outputs": [
        {
          "output_type": "stream",
          "text": [
            "Epoch 50. Time: 0.021, Train loss: 2.204\n",
            "tensor([[5, 2, 9, 8, 6, 9, 7, 0, 6, 6]]) tensor([[5, 7, 4, 3, 1, 4, 2, 5, 3, 3]])\n",
            "Epoch 100. Time: 0.022, Train loss: 1.964\n",
            "tensor([[7, 5, 0, 2, 0, 8, 9, 8, 0, 5]]) tensor([[7, 8, 3, 9, 3, 9, 3, 3, 1, 9]])\n",
            "Epoch 150. Time: 0.022, Train loss: 1.844\n",
            "tensor([[6, 9, 1, 1, 0, 6, 2, 6, 4, 3]]) tensor([[6, 9, 9, 2, 9, 2, 3, 2, 0, 2]])\n",
            "Epoch 200. Time: 0.022, Train loss: 1.581\n",
            "tensor([[6, 4, 6, 8, 2, 0, 2, 4, 1, 1]]) tensor([[6, 8, 6, 6, 8, 1, 7, 5, 8, 8]])\n",
            "Epoch 250. Time: 0.027, Train loss: 1.188\n",
            "tensor([[3, 4, 1, 7, 4, 5, 5, 7, 1, 9]]) tensor([[3, 1, 5, 1, 3, 7, 4, 6, 3, 3]])\n",
            "Epoch 300. Time: 0.022, Train loss: 1.437\n",
            "tensor([[2, 8, 5, 3, 9, 7, 7, 0, 6, 6]]) tensor([[2, 8, 9, 3, 9, 7, 7, 6, 0, 0]])\n",
            "Epoch 350. Time: 0.021, Train loss: 1.263\n",
            "tensor([[3, 3, 4, 0, 0, 4, 0, 7, 3, 6]]) tensor([[3, 3, 4, 8, 8, 8, 8, 9, 1, 8]])\n",
            "Epoch 400. Time: 0.022, Train loss: 0.842\n",
            "tensor([[4, 9, 5, 5, 9, 4, 4, 2, 4, 6]]) tensor([[4, 9, 5, 5, 2, 1, 7, 5, 3, 9]])\n",
            "Epoch 450. Time: 0.022, Train loss: 0.673\n",
            "tensor([[3, 4, 5, 6, 7, 6, 3, 7, 6, 0]]) tensor([[3, 4, 5, 6, 7, 6, 3, 7, 6, 0]])\n",
            "Epoch 500. Time: 0.030, Train loss: 0.704\n",
            "tensor([[2, 6, 2, 9, 4, 5, 7, 0, 5, 7]]) tensor([[2, 6, 2, 3, 8, 1, 7, 4, 1, 7]])\n",
            "Epoch 550. Time: 0.022, Train loss: 0.371\n",
            "tensor([[3, 4, 8, 3, 0, 3, 0, 1, 3, 0]]) tensor([[3, 4, 8, 3, 0, 3, 0, 1, 3, 0]])\n",
            "Epoch 600. Time: 0.022, Train loss: 0.357\n",
            "tensor([[4, 2, 5, 0, 9, 2, 8, 9, 9, 8]]) tensor([[4, 2, 5, 0, 9, 2, 8, 9, 9, 8]])\n",
            "Epoch 650. Time: 0.022, Train loss: 0.153\n",
            "tensor([[4, 8, 1, 0, 6, 4, 0, 5, 2, 5]]) tensor([[4, 8, 1, 0, 6, 4, 0, 5, 2, 5]])\n",
            "Epoch 700. Time: 0.022, Train loss: 0.113\n",
            "tensor([[4, 2, 4, 2, 7, 6, 4, 5, 4, 0]]) tensor([[4, 2, 4, 2, 7, 6, 4, 5, 4, 0]])\n",
            "Epoch 750. Time: 0.022, Train loss: 0.097\n",
            "tensor([[0, 2, 2, 0, 7, 4, 3, 7, 0, 8]]) tensor([[0, 2, 2, 0, 7, 4, 3, 7, 0, 8]])\n",
            "Epoch 800. Time: 0.037, Train loss: 0.040\n",
            "tensor([[6, 1, 3, 6, 1, 4, 1, 1, 9, 8]]) tensor([[6, 1, 3, 6, 1, 4, 1, 1, 9, 8]])\n",
            "Epoch 850. Time: 0.023, Train loss: 0.043\n",
            "tensor([[3, 1, 1, 7, 9, 4, 5, 4, 9, 4]]) tensor([[3, 1, 1, 7, 9, 4, 5, 4, 9, 4]])\n",
            "Epoch 900. Time: 0.022, Train loss: 0.033\n",
            "tensor([[6, 8, 1, 3, 8, 2, 8, 2, 7, 3]]) tensor([[6, 8, 1, 3, 8, 2, 8, 2, 7, 3]])\n",
            "Epoch 950. Time: 0.023, Train loss: 0.028\n",
            "tensor([[7, 4, 1, 5, 3, 4, 4, 0, 0, 8]]) tensor([[7, 4, 1, 5, 3, 4, 4, 0, 0, 8]])\n",
            "Epoch 1000. Time: 0.023, Train loss: 0.018\n",
            "tensor([[8, 0, 6, 9, 8, 2, 5, 8, 9, 5]]) tensor([[8, 0, 6, 9, 8, 2, 5, 8, 9, 5]])\n"
          ],
          "name": "stdout"
        }
      ]
    },
    {
      "cell_type": "markdown",
      "metadata": {
        "id": "qz3ToSncS7wV"
      },
      "source": [
        "- GRU"
      ]
    },
    {
      "cell_type": "code",
      "metadata": {
        "colab": {
          "base_uri": "https://localhost:8080/"
        },
        "id": "oKooKFDYS9PV",
        "outputId": "693da39e-8dd7-4d1f-d0d7-27ecc1bdeacd"
      },
      "source": [
        "model = NeuralNetwork(rnnClass=nn.GRU, input_size=10, embedding_size=64, \r\n",
        "                      num_hiddens=64, num_classes=10)\r\n",
        "\r\n",
        "model = model.cuda() if torch.cuda.is_available() else model.cpu()\r\n",
        "criterion = torch.nn.CrossEntropyLoss()\r\n",
        "optimizer = torch.optim.Adam(model.parameters(), lr=0.001)\r\n",
        "\r\n",
        "train(model, criterion, optimizer, epochs=1000, sequence_len=10, batch_size=10)"
      ],
      "execution_count": 17,
      "outputs": [
        {
          "output_type": "stream",
          "text": [
            "Epoch 50. Time: 0.033, Train loss: 2.182\n",
            "tensor([[3, 8, 6, 9, 0, 6, 0, 7, 6, 5]]) tensor([[3, 5, 3, 6, 7, 3, 7, 4, 3, 9]])\n",
            "Epoch 100. Time: 0.032, Train loss: 1.884\n",
            "tensor([[1, 9, 4, 1, 2, 4, 8, 2, 6, 4]]) tensor([[1, 8, 3, 3, 1, 3, 3, 1, 8, 8]])\n",
            "Epoch 150. Time: 0.033, Train loss: 0.962\n",
            "tensor([[6, 8, 9, 0, 8, 9, 0, 1, 7, 3]]) tensor([[6, 6, 9, 6, 6, 9, 6, 7, 7, 9]])\n",
            "Epoch 200. Time: 0.034, Train loss: 0.392\n",
            "tensor([[0, 8, 2, 3, 0, 6, 1, 3, 4, 2]]) tensor([[0, 8, 2, 3, 0, 6, 1, 3, 4, 2]])\n",
            "Epoch 250. Time: 0.034, Train loss: 0.188\n",
            "tensor([[6, 3, 0, 9, 0, 0, 8, 2, 6, 3]]) tensor([[6, 3, 0, 9, 0, 0, 8, 2, 6, 3]])\n",
            "Epoch 300. Time: 0.032, Train loss: 0.089\n",
            "tensor([[7, 9, 1, 5, 9, 2, 3, 2, 7, 9]]) tensor([[7, 9, 1, 5, 9, 2, 3, 2, 7, 9]])\n",
            "Epoch 350. Time: 0.033, Train loss: 0.059\n",
            "tensor([[1, 9, 6, 4, 3, 6, 2, 2, 4, 1]]) tensor([[1, 9, 6, 4, 3, 6, 2, 2, 4, 1]])\n",
            "Epoch 400. Time: 0.033, Train loss: 0.047\n",
            "tensor([[4, 9, 0, 8, 9, 2, 0, 5, 4, 8]]) tensor([[4, 9, 0, 8, 9, 2, 0, 5, 4, 8]])\n",
            "Epoch 450. Time: 0.033, Train loss: 0.025\n",
            "tensor([[8, 2, 6, 8, 4, 3, 3, 2, 8, 9]]) tensor([[8, 2, 6, 8, 4, 3, 3, 2, 8, 9]])\n",
            "Epoch 500. Time: 0.032, Train loss: 0.017\n",
            "tensor([[2, 3, 4, 4, 0, 0, 8, 4, 3, 2]]) tensor([[2, 3, 4, 4, 0, 0, 8, 4, 3, 2]])\n",
            "Epoch 550. Time: 0.033, Train loss: 0.012\n",
            "tensor([[5, 5, 0, 0, 1, 2, 0, 9, 2, 0]]) tensor([[5, 5, 0, 0, 1, 2, 0, 9, 2, 0]])\n",
            "Epoch 600. Time: 0.032, Train loss: 0.010\n",
            "tensor([[2, 3, 5, 9, 0, 6, 4, 3, 5, 9]]) tensor([[2, 3, 5, 9, 0, 6, 4, 3, 5, 9]])\n",
            "Epoch 650. Time: 0.033, Train loss: 0.006\n",
            "tensor([[5, 1, 2, 3, 1, 3, 6, 2, 0, 0]]) tensor([[5, 1, 2, 3, 1, 3, 6, 2, 0, 0]])\n",
            "Epoch 700. Time: 0.033, Train loss: 0.005\n",
            "tensor([[8, 8, 3, 5, 3, 9, 1, 6, 5, 3]]) tensor([[8, 8, 3, 5, 3, 9, 1, 6, 5, 3]])\n",
            "Epoch 750. Time: 0.032, Train loss: 0.003\n",
            "tensor([[7, 7, 1, 8, 1, 7, 2, 1, 5, 7]]) tensor([[7, 7, 1, 8, 1, 7, 2, 1, 5, 7]])\n",
            "Epoch 800. Time: 0.034, Train loss: 0.004\n",
            "tensor([[5, 5, 2, 9, 5, 6, 7, 1, 1, 9]]) tensor([[5, 5, 2, 9, 5, 6, 7, 1, 1, 9]])\n",
            "Epoch 850. Time: 0.033, Train loss: 0.003\n",
            "tensor([[3, 9, 9, 8, 5, 7, 4, 6, 6, 0]]) tensor([[3, 9, 9, 8, 5, 7, 4, 6, 6, 0]])\n",
            "Epoch 900. Time: 0.032, Train loss: 0.002\n",
            "tensor([[5, 1, 1, 2, 3, 9, 5, 6, 3, 2]]) tensor([[5, 1, 1, 2, 3, 9, 5, 6, 3, 2]])\n",
            "Epoch 950. Time: 0.034, Train loss: 0.001\n",
            "tensor([[2, 4, 6, 5, 4, 8, 8, 2, 2, 6]]) tensor([[2, 4, 6, 5, 4, 8, 8, 2, 2, 6]])\n",
            "Epoch 1000. Time: 0.033, Train loss: 0.001\n",
            "tensor([[7, 7, 1, 3, 2, 2, 3, 8, 7, 3]]) tensor([[7, 7, 1, 3, 2, 2, 3, 8, 7, 3]])\n"
          ],
          "name": "stdout"
        }
      ]
    },
    {
      "cell_type": "markdown",
      "metadata": {
        "id": "My1Rnv2fTBdz"
      },
      "source": [
        "- LSTM"
      ]
    },
    {
      "cell_type": "code",
      "metadata": {
        "colab": {
          "base_uri": "https://localhost:8080/"
        },
        "id": "e3_0OnNpTDQe",
        "outputId": "e7d5ced5-a55e-4026-ecd0-e82dfe6d58e6"
      },
      "source": [
        "model = NeuralNetwork(rnnClass=nn.LSTM, input_size=10, embedding_size=64, \r\n",
        "                      num_hiddens=64, num_classes=10)\r\n",
        "\r\n",
        "model = model.cuda() if torch.cuda.is_available() else model.cpu()\r\n",
        "criterion = torch.nn.CrossEntropyLoss()\r\n",
        "optimizer = torch.optim.Adam(model.parameters(), lr=0.001)\r\n",
        "\r\n",
        "train(model, criterion, optimizer, epochs=1000, sequence_len=10, batch_size=10)"
      ],
      "execution_count": 18,
      "outputs": [
        {
          "output_type": "stream",
          "text": [
            "Epoch 50. Time: 0.033, Train loss: 2.079\n",
            "tensor([[5, 5, 8, 6, 5, 7, 3, 2, 0, 2]]) tensor([[5, 7, 5, 5, 7, 5, 8, 0, 5, 7]])\n",
            "Epoch 100. Time: 0.033, Train loss: 1.122\n",
            "tensor([[2, 2, 2, 5, 8, 7, 5, 9, 5, 5]]) tensor([[2, 2, 2, 5, 8, 7, 5, 9, 5, 5]])\n",
            "Epoch 150. Time: 0.034, Train loss: 0.281\n",
            "tensor([[3, 0, 1, 1, 8, 0, 4, 4, 1, 4]]) tensor([[3, 0, 1, 1, 8, 0, 4, 4, 1, 4]])\n",
            "Epoch 200. Time: 0.032, Train loss: 0.106\n",
            "tensor([[3, 8, 7, 3, 8, 5, 6, 8, 1, 0]]) tensor([[3, 8, 7, 3, 8, 5, 6, 8, 1, 0]])\n",
            "Epoch 250. Time: 0.031, Train loss: 0.051\n",
            "tensor([[6, 7, 3, 4, 3, 7, 2, 9, 9, 0]]) tensor([[6, 7, 3, 4, 3, 7, 2, 9, 9, 0]])\n",
            "Epoch 300. Time: 0.032, Train loss: 0.027\n",
            "tensor([[3, 9, 1, 5, 6, 6, 3, 0, 4, 3]]) tensor([[3, 9, 1, 5, 6, 6, 3, 0, 4, 3]])\n",
            "Epoch 350. Time: 0.032, Train loss: 0.018\n",
            "tensor([[0, 3, 1, 6, 8, 8, 1, 6, 1, 0]]) tensor([[0, 3, 1, 6, 8, 8, 1, 6, 1, 0]])\n",
            "Epoch 400. Time: 0.032, Train loss: 0.010\n",
            "tensor([[2, 2, 4, 6, 8, 8, 9, 8, 3, 4]]) tensor([[2, 2, 4, 6, 8, 8, 9, 8, 3, 4]])\n",
            "Epoch 450. Time: 0.032, Train loss: 0.007\n",
            "tensor([[0, 5, 1, 8, 6, 7, 3, 8, 4, 0]]) tensor([[0, 5, 1, 8, 6, 7, 3, 8, 4, 0]])\n",
            "Epoch 500. Time: 0.033, Train loss: 0.006\n",
            "tensor([[0, 7, 6, 4, 2, 3, 1, 5, 2, 5]]) tensor([[0, 7, 6, 4, 2, 3, 1, 5, 2, 5]])\n",
            "Epoch 550. Time: 0.033, Train loss: 0.005\n",
            "tensor([[0, 4, 6, 3, 4, 7, 2, 7, 5, 4]]) tensor([[0, 4, 6, 3, 4, 7, 2, 7, 5, 4]])\n",
            "Epoch 600. Time: 0.032, Train loss: 0.004\n",
            "tensor([[3, 1, 4, 5, 3, 1, 1, 8, 4, 3]]) tensor([[3, 1, 4, 5, 3, 1, 1, 8, 4, 3]])\n",
            "Epoch 650. Time: 0.033, Train loss: 0.002\n",
            "tensor([[3, 7, 8, 0, 4, 4, 9, 6, 7, 8]]) tensor([[3, 7, 8, 0, 4, 4, 9, 6, 7, 8]])\n",
            "Epoch 700. Time: 0.032, Train loss: 0.002\n",
            "tensor([[2, 5, 3, 5, 3, 0, 2, 5, 3, 7]]) tensor([[2, 5, 3, 5, 3, 0, 2, 5, 3, 7]])\n",
            "Epoch 750. Time: 0.032, Train loss: 0.001\n",
            "tensor([[3, 9, 1, 0, 1, 1, 7, 4, 5, 5]]) tensor([[3, 9, 1, 0, 1, 1, 7, 4, 5, 5]])\n",
            "Epoch 800. Time: 0.032, Train loss: 0.002\n",
            "tensor([[1, 3, 1, 7, 4, 1, 4, 4, 7, 1]]) tensor([[1, 3, 1, 7, 4, 1, 4, 4, 7, 1]])\n",
            "Epoch 850. Time: 0.032, Train loss: 0.001\n",
            "tensor([[1, 1, 5, 4, 6, 2, 3, 3, 6, 5]]) tensor([[1, 1, 5, 4, 6, 2, 3, 3, 6, 5]])\n",
            "Epoch 900. Time: 0.032, Train loss: 0.000\n",
            "tensor([[6, 0, 1, 1, 9, 2, 4, 4, 0, 1]]) tensor([[6, 0, 1, 1, 9, 2, 4, 4, 0, 1]])\n",
            "Epoch 950. Time: 0.033, Train loss: 0.000\n",
            "tensor([[6, 7, 8, 8, 4, 0, 2, 4, 8, 7]]) tensor([[6, 7, 8, 8, 4, 0, 2, 4, 8, 7]])\n",
            "Epoch 1000. Time: 0.033, Train loss: 0.000\n",
            "tensor([[2, 7, 6, 9, 4, 3, 3, 8, 8, 7]]) tensor([[2, 7, 6, 9, 4, 3, 3, 8, 8, 7]])\n"
          ],
          "name": "stdout"
        }
      ]
    },
    {
      "cell_type": "markdown",
      "metadata": {
        "id": "c8OFDAdeTLL_"
      },
      "source": [
        "По результату - GRU и LSTM оказываются на одном уровне качества по сходимости, в то время как ванильная RNN существенно проигрывает в качестве, выигрывая в скорости обучения"
      ]
    }
  ]
}